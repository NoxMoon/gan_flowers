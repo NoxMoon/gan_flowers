{
 "cells": [
  {
   "cell_type": "code",
   "execution_count": 1,
   "metadata": {},
   "outputs": [],
   "source": [
    "import sys\n",
    "sys.path.append('..')\n",
    "from image_preprocessing_util import *\n",
    "\n",
    "import os\n",
    "import glob\n",
    "from skimage import transform, io\n",
    "from skimage.exposure import adjust_gamma\n",
    "from tqdm import tqdm\n",
    "import pandas as pd\n",
    "import numpy as np\n",
    "import matplotlib.pyplot as plt"
   ]
  },
  {
   "cell_type": "code",
   "execution_count": 2,
   "metadata": {},
   "outputs": [],
   "source": [
    "#imagenet dataset\n",
    "def process_folder(folder):\n",
    "    \n",
    "    image_paths = glob.glob(folder+\"/*.JPEG\")\n",
    "    mask_paths = glob.glob(folder+\"/mask/*.jpg\")\n",
    "    \n",
    "    print(\"found %d masks..\", len(mask_paths))\n",
    "\n",
    "    os.system('mkdir '+os.path.join(folder, 'image64'))\n",
    "    os.system('mkdir '+os.path.join(folder, 'mask64'))\n",
    "    for mask_path in tqdm(mask_paths):\n",
    "\n",
    "        image_path = os.path.join(folder, os.path.split(mask_path)[1][:-4]+'.JPEG')\n",
    "        if(not image_path in image_paths):\n",
    "            continue\n",
    "\n",
    "        image = io.imread(image_path)\n",
    "        mask = io.imread(mask_path, is_gray=True)\n",
    "        \n",
    "        if len(image.shape)!=3:\n",
    "            continue\n",
    "\n",
    "        image_processed_path = os.path.join(folder, 'image64', os.path.split(image_path)[1][:-4]+'_1.jpg')\n",
    "        mask_processed_path = os.path.join(folder, 'mask64', os.path.split(mask_path)[1][:-4]+'_1.jpg')\n",
    "        image_processed, mask_processed = process_image_n_mask(image, mask, size=(64,64), flip=False)\n",
    "        io.imsave(image_processed_path, image_processed)\n",
    "        io.imsave(mask_processed_path, mask_processed)\n",
    "\n",
    "        image_processed_path = os.path.join(folder, 'image64', os.path.split(image_path)[1][:-4]+'_2.jpg')\n",
    "        mask_processed_path = os.path.join(folder, 'mask64', os.path.split(mask_path)[1][:-4]+'_2.jpg') \n",
    "        image_processed, mask_processed = process_image_n_mask(image, mask, size=(64,64), flip=True)\n",
    "        io.imsave(image_processed_path, image_processed)\n",
    "        io.imsave(mask_processed_path, mask_processed)    \n",
    "\n",
    "        image_processed_path = os.path.join(folder, 'image64', os.path.split(image_path)[1][:-4]+'_3.jpg')\n",
    "        mask_processed_path = os.path.join(folder, 'mask64', os.path.split(mask_path)[1][:-4]+'_3.jpg')\n",
    "        image_processed, mask_processed = process_image_n_mask(image, mask, size=(64,64), flip=False, gamma=0.75)\n",
    "        io.imsave(image_processed_path, image_processed)\n",
    "        io.imsave(mask_processed_path, mask_processed)\n",
    "\n",
    "        image_processed_path = os.path.join(folder, 'image64', os.path.split(image_path)[1][:-4]+'_4.jpg')\n",
    "        mask_processed_path = os.path.join(folder, 'mask64', os.path.split(mask_path)[1][:-4]+'_4.jpg')\n",
    "        image_processed, mask_processed = process_image_n_mask(image, mask, size=(64,64), flip=False, gamma=1.25)\n",
    "        io.imsave(image_processed_path, image_processed)\n",
    "        io.imsave(mask_processed_path, mask_processed)"
   ]
  },
  {
   "cell_type": "code",
   "execution_count": 3,
   "metadata": {},
   "outputs": [
    {
     "name": "stderr",
     "output_type": "stream",
     "text": [
      "  0%|          | 0/137 [00:00<?, ?it/s]/Library/Frameworks/Python.framework/Versions/3.6/lib/python3.6/site-packages/skimage/transform/_warps.py:105: UserWarning: The default mode, 'constant', will be changed to 'reflect' in skimage 0.15.\n",
      "  warn(\"The default mode, 'constant', will be changed to 'reflect' in \"\n",
      "/Library/Frameworks/Python.framework/Versions/3.6/lib/python3.6/site-packages/skimage/transform/_warps.py:110: UserWarning: Anti-aliasing will be enabled by default in skimage 0.15 to avoid aliasing artifacts when down-sampling images.\n",
      "  warn(\"Anti-aliasing will be enabled by default in skimage 0.15 to \"\n",
      "/Library/Frameworks/Python.framework/Versions/3.6/lib/python3.6/site-packages/skimage/util/dtype.py:130: UserWarning: Possible precision loss when converting from float64 to uint8\n",
      "  .format(dtypeobj_in, dtypeobj_out))\n",
      "  1%|▏         | 2/137 [00:00<00:08, 16.23it/s]"
     ]
    },
    {
     "name": "stdout",
     "output_type": "stream",
     "text": [
      "process folder fly_orchid\n",
      "found %d masks.. 137\n"
     ]
    },
    {
     "name": "stderr",
     "output_type": "stream",
     "text": [
      " 11%|█         | 15/137 [00:00<00:05, 24.16it/s]/Library/Frameworks/Python.framework/Versions/3.6/lib/python3.6/site-packages/skimage/io/_io.py:140: UserWarning: fly_orchid/mask64/n12075010_2208_3.jpg is a low contrast image\n",
      "  warn('%s is a low contrast image' % fname)\n",
      " 97%|█████████▋| 133/137 [00:06<00:00, 21.55it/s]/Library/Frameworks/Python.framework/Versions/3.6/lib/python3.6/site-packages/skimage/io/_io.py:140: UserWarning: fly_orchid/mask64/n12075010_8273_4.jpg is a low contrast image\n",
      "  warn('%s is a low contrast image' % fname)\n",
      "100%|██████████| 137/137 [00:06<00:00, 19.63it/s]\n",
      "  2%|▏         | 3/172 [00:00<00:05, 29.66it/s]"
     ]
    },
    {
     "name": "stdout",
     "output_type": "stream",
     "text": [
      "process folder calla_lily\n",
      "found %d masks.. 172\n"
     ]
    },
    {
     "name": "stderr",
     "output_type": "stream",
     "text": [
      " 84%|████████▍ | 145/172 [00:07<00:01, 22.29it/s]/Library/Frameworks/Python.framework/Versions/3.6/lib/python3.6/site-packages/skimage/io/_io.py:140: UserWarning: calla_lily/mask64/n11793779_14953_2.jpg is a low contrast image\n",
      "  warn('%s is a low contrast image' % fname)\n",
      " 93%|█████████▎| 160/172 [00:07<00:00, 15.33it/s]/Library/Frameworks/Python.framework/Versions/3.6/lib/python3.6/site-packages/skimage/io/_io.py:140: UserWarning: calla_lily/mask64/n11793779_6010_3.jpg is a low contrast image\n",
      "  warn('%s is a low contrast image' % fname)\n",
      "100%|██████████| 172/172 [00:08<00:00, 21.55it/s]\n",
      "  3%|▎         | 2/74 [00:00<00:03, 18.02it/s]"
     ]
    },
    {
     "name": "stdout",
     "output_type": "stream",
     "text": [
      "process folder china_pink\n",
      "found %d masks.. 74\n"
     ]
    },
    {
     "name": "stderr",
     "output_type": "stream",
     "text": [
      " 31%|███       | 23/74 [00:02<00:03, 13.05it/s]/Library/Frameworks/Python.framework/Versions/3.6/lib/python3.6/site-packages/skimage/io/_io.py:140: UserWarning: china_pink/mask64/n11808721_17142_1.jpg is a low contrast image\n",
      "  warn('%s is a low contrast image' % fname)\n",
      " 34%|███▍      | 25/74 [00:02<00:03, 14.36it/s]/Library/Frameworks/Python.framework/Versions/3.6/lib/python3.6/site-packages/skimage/io/_io.py:140: UserWarning: china_pink/mask64/n11808721_25906_3.jpg is a low contrast image\n",
      "  warn('%s is a low contrast image' % fname)\n",
      "/Library/Frameworks/Python.framework/Versions/3.6/lib/python3.6/site-packages/skimage/io/_io.py:140: UserWarning: china_pink/mask64/n11808721_25906_4.jpg is a low contrast image\n",
      "  warn('%s is a low contrast image' % fname)\n",
      " 39%|███▉      | 29/74 [00:02<00:02, 15.51it/s]/Library/Frameworks/Python.framework/Versions/3.6/lib/python3.6/site-packages/skimage/io/_io.py:140: UserWarning: china_pink/mask64/n11808721_7330_1.jpg is a low contrast image\n",
      "  warn('%s is a low contrast image' % fname)\n",
      "100%|██████████| 74/74 [00:04<00:00, 23.07it/s]\n",
      "  1%|          | 1/109 [00:00<00:16,  6.40it/s]"
     ]
    },
    {
     "name": "stdout",
     "output_type": "stream",
     "text": [
      "process folder blue_daisy\n",
      "found %d masks.. 109\n"
     ]
    },
    {
     "name": "stderr",
     "output_type": "stream",
     "text": [
      "/Library/Frameworks/Python.framework/Versions/3.6/lib/python3.6/site-packages/skimage/io/_io.py:140: UserWarning: blue_daisy/mask64/n11969607_1445_2.jpg is a low contrast image\n",
      "  warn('%s is a low contrast image' % fname)\n",
      " 36%|███▌      | 39/109 [00:02<00:03, 18.61it/s]/Library/Frameworks/Python.framework/Versions/3.6/lib/python3.6/site-packages/skimage/io/_io.py:140: UserWarning: blue_daisy/mask64/n11969607_2464_2.jpg is a low contrast image\n",
      "  warn('%s is a low contrast image' % fname)\n",
      " 70%|██████▉   | 76/109 [00:03<00:01, 24.50it/s]/Library/Frameworks/Python.framework/Versions/3.6/lib/python3.6/site-packages/skimage/io/_io.py:140: UserWarning: blue_daisy/mask64/n11969607_12183_3.jpg is a low contrast image\n",
      "  warn('%s is a low contrast image' % fname)\n",
      "100%|██████████| 109/109 [00:05<00:00, 20.73it/s]\n",
      "  1%|          | 3/242 [00:00<00:09, 23.93it/s]"
     ]
    },
    {
     "name": "stdout",
     "output_type": "stream",
     "text": [
      "process folder cornflower\n",
      "found %d masks.. 242\n"
     ]
    },
    {
     "name": "stderr",
     "output_type": "stream",
     "text": [
      " 24%|██▎       | 57/242 [00:01<00:04, 42.42it/s]/Library/Frameworks/Python.framework/Versions/3.6/lib/python3.6/site-packages/skimage/io/_io.py:140: UserWarning: cornflower/mask64/n11947802_6880_1.jpg is a low contrast image\n",
      "  warn('%s is a low contrast image' % fname)\n",
      " 55%|█████▌    | 134/242 [00:04<00:03, 30.78it/s]/Library/Frameworks/Python.framework/Versions/3.6/lib/python3.6/site-packages/skimage/io/_io.py:140: UserWarning: cornflower/mask64/n11947802_6959_1.jpg is a low contrast image\n",
      "  warn('%s is a low contrast image' % fname)\n",
      " 81%|████████▏ | 197/242 [00:06<00:01, 28.98it/s]/Library/Frameworks/Python.framework/Versions/3.6/lib/python3.6/site-packages/skimage/io/_io.py:140: UserWarning: cornflower/mask64/n11947802_8524_2.jpg is a low contrast image\n",
      "  warn('%s is a low contrast image' % fname)\n",
      "100%|██████████| 242/242 [00:07<00:00, 30.37it/s]\n",
      "  3%|▎         | 3/109 [00:00<00:04, 22.41it/s]"
     ]
    },
    {
     "name": "stdout",
     "output_type": "stream",
     "text": [
      "process folder four_oclock\n",
      "found %d masks.. 109\n"
     ]
    },
    {
     "name": "stderr",
     "output_type": "stream",
     "text": [
      "100%|██████████| 109/109 [00:07<00:00, 18.96it/s]\n",
      "  2%|▏         | 3/128 [00:00<00:05, 23.30it/s]"
     ]
    },
    {
     "name": "stdout",
     "output_type": "stream",
     "text": [
      "process folder prickly_poppy\n",
      "found %d masks.. 128\n"
     ]
    },
    {
     "name": "stderr",
     "output_type": "stream",
     "text": [
      "  4%|▍         | 5/128 [00:00<00:05, 21.71it/s]/Library/Frameworks/Python.framework/Versions/3.6/lib/python3.6/site-packages/skimage/io/_io.py:140: UserWarning: prickly_poppy/mask64/n11901597_6082_4.jpg is a low contrast image\n",
      "  warn('%s is a low contrast image' % fname)\n",
      " 29%|██▉       | 37/128 [00:02<00:06, 13.57it/s]/Library/Frameworks/Python.framework/Versions/3.6/lib/python3.6/site-packages/skimage/io/_io.py:140: UserWarning: prickly_poppy/mask64/n11901597_4233_4.jpg is a low contrast image\n",
      "  warn('%s is a low contrast image' % fname)\n",
      " 72%|███████▏  | 92/128 [00:06<00:03, 11.36it/s]/Library/Frameworks/Python.framework/Versions/3.6/lib/python3.6/site-packages/skimage/io/_io.py:140: UserWarning: prickly_poppy/mask64/n11901597_2289_4.jpg is a low contrast image\n",
      "  warn('%s is a low contrast image' % fname)\n",
      " 99%|█████████▉| 127/128 [00:08<00:00, 17.24it/s]/Library/Frameworks/Python.framework/Versions/3.6/lib/python3.6/site-packages/skimage/io/_io.py:140: UserWarning: prickly_poppy/mask64/n11901597_2956_2.jpg is a low contrast image\n",
      "  warn('%s is a low contrast image' % fname)\n",
      "/Library/Frameworks/Python.framework/Versions/3.6/lib/python3.6/site-packages/skimage/io/_io.py:140: UserWarning: prickly_poppy/mask64/n11901597_2956_3.jpg is a low contrast image\n",
      "  warn('%s is a low contrast image' % fname)\n",
      "/Library/Frameworks/Python.framework/Versions/3.6/lib/python3.6/site-packages/skimage/io/_io.py:140: UserWarning: prickly_poppy/mask64/n11901597_2956_4.jpg is a low contrast image\n",
      "  warn('%s is a low contrast image' % fname)\n",
      "100%|██████████| 128/128 [00:08<00:00, 15.64it/s]\n",
      "  0%|          | 0/165 [00:00<?, ?it/s]"
     ]
    },
    {
     "name": "stdout",
     "output_type": "stream",
     "text": [
      "process folder welsh_poppy\n",
      "found %d masks.. 165\n"
     ]
    },
    {
     "name": "stderr",
     "output_type": "stream",
     "text": [
      " 53%|█████▎    | 87/165 [00:10<00:03, 23.37it/s]/Library/Frameworks/Python.framework/Versions/3.6/lib/python3.6/site-packages/skimage/io/_io.py:140: UserWarning: welsh_poppy/mask64/n11907100_3754_2.jpg is a low contrast image\n",
      "  warn('%s is a low contrast image' % fname)\n",
      "/Library/Frameworks/Python.framework/Versions/3.6/lib/python3.6/site-packages/skimage/io/_io.py:140: UserWarning: welsh_poppy/mask64/n11907100_3754_3.jpg is a low contrast image\n",
      "  warn('%s is a low contrast image' % fname)\n",
      " 92%|█████████▏| 151/165 [00:13<00:00, 24.75it/s]/Library/Frameworks/Python.framework/Versions/3.6/lib/python3.6/site-packages/skimage/io/_io.py:140: UserWarning: welsh_poppy/mask64/n11907100_4060_2.jpg is a low contrast image\n",
      "  warn('%s is a low contrast image' % fname)\n",
      "/Library/Frameworks/Python.framework/Versions/3.6/lib/python3.6/site-packages/skimage/io/_io.py:140: UserWarning: welsh_poppy/mask64/n11907100_4060_3.jpg is a low contrast image\n",
      "  warn('%s is a low contrast image' % fname)\n",
      "/Library/Frameworks/Python.framework/Versions/3.6/lib/python3.6/site-packages/skimage/io/_io.py:140: UserWarning: welsh_poppy/mask64/n11907100_4060_4.jpg is a low contrast image\n",
      "  warn('%s is a low contrast image' % fname)\n",
      "100%|██████████| 165/165 [00:14<00:00, 11.48it/s]\n",
      "  2%|▏         | 2/94 [00:00<00:04, 18.62it/s]"
     ]
    },
    {
     "name": "stdout",
     "output_type": "stream",
     "text": [
      "process folder wildflower\n",
      "found %d masks.. 94\n"
     ]
    },
    {
     "name": "stderr",
     "output_type": "stream",
     "text": [
      " 85%|████████▌ | 80/94 [00:05<00:01, 11.84it/s]/Library/Frameworks/Python.framework/Versions/3.6/lib/python3.6/site-packages/skimage/io/_io.py:140: UserWarning: wildflower/mask64/n11672400_1014_1.jpg is a low contrast image\n",
      "  warn('%s is a low contrast image' % fname)\n",
      " 99%|█████████▉| 93/94 [00:06<00:00, 11.53it/s]/Library/Frameworks/Python.framework/Versions/3.6/lib/python3.6/site-packages/skimage/io/_io.py:140: UserWarning: wildflower/mask64/n11672400_76_1.jpg is a low contrast image\n",
      "  warn('%s is a low contrast image' % fname)\n",
      "100%|██████████| 94/94 [00:06<00:00, 13.53it/s]\n",
      "  1%|▏         | 2/135 [00:00<00:06, 19.73it/s]"
     ]
    },
    {
     "name": "stdout",
     "output_type": "stream",
     "text": [
      "process folder cattleya\n",
      "found %d masks.. 135\n"
     ]
    },
    {
     "name": "stderr",
     "output_type": "stream",
     "text": [
      " 33%|███▎      | 44/135 [00:03<00:07, 11.80it/s]/Library/Frameworks/Python.framework/Versions/3.6/lib/python3.6/site-packages/skimage/io/_io.py:140: UserWarning: cattleya/mask64/n12050533_8799_2.jpg is a low contrast image\n",
      "  warn('%s is a low contrast image' % fname)\n",
      " 34%|███▍      | 46/135 [00:03<00:08, 10.40it/s]/Library/Frameworks/Python.framework/Versions/3.6/lib/python3.6/site-packages/skimage/io/_io.py:140: UserWarning: cattleya/mask64/n12050533_9861_3.jpg is a low contrast image\n",
      "  warn('%s is a low contrast image' % fname)\n",
      " 37%|███▋      | 50/135 [00:04<00:09,  8.93it/s]/Library/Frameworks/Python.framework/Versions/3.6/lib/python3.6/site-packages/skimage/io/_io.py:140: UserWarning: cattleya/mask64/n12050533_7044_4.jpg is a low contrast image\n",
      "  warn('%s is a low contrast image' % fname)\n",
      " 67%|██████▋   | 91/135 [00:07<00:03, 12.32it/s]/Library/Frameworks/Python.framework/Versions/3.6/lib/python3.6/site-packages/skimage/io/_io.py:140: UserWarning: cattleya/mask64/n12050533_4230_3.jpg is a low contrast image\n",
      "  warn('%s is a low contrast image' % fname)\n",
      " 82%|████████▏ | 111/135 [00:09<00:01, 13.42it/s]/Library/Frameworks/Python.framework/Versions/3.6/lib/python3.6/site-packages/skimage/io/_io.py:140: UserWarning: cattleya/mask64/n12050533_1919_3.jpg is a low contrast image\n",
      "  warn('%s is a low contrast image' % fname)\n",
      "100%|██████████| 135/135 [00:10<00:00, 22.10it/s]\n",
      "  3%|▎         | 3/96 [00:00<00:03, 27.61it/s]"
     ]
    },
    {
     "name": "stdout",
     "output_type": "stream",
     "text": [
      "process folder ross_moss\n",
      "found %d masks.. 96\n"
     ]
    },
    {
     "name": "stderr",
     "output_type": "stream",
     "text": [
      " 49%|████▉     | 47/96 [00:01<00:01, 24.58it/s]/Library/Frameworks/Python.framework/Versions/3.6/lib/python3.6/site-packages/skimage/io/_io.py:140: UserWarning: ross_moss/mask64/n11857875_7904_2.jpg is a low contrast image\n",
      "  warn('%s is a low contrast image' % fname)\n",
      "100%|██████████| 96/96 [00:04<00:00, 23.29it/s]\n",
      "  1%|          | 1/122 [00:00<00:14,  8.26it/s]"
     ]
    },
    {
     "name": "stdout",
     "output_type": "stream",
     "text": [
      "process folder marigold\n",
      "found %d masks.. 122\n"
     ]
    },
    {
     "name": "stderr",
     "output_type": "stream",
     "text": [
      "  3%|▎         | 4/122 [00:00<00:11,  9.92it/s]/Library/Frameworks/Python.framework/Versions/3.6/lib/python3.6/site-packages/skimage/io/_io.py:140: UserWarning: marigold/mask64/n11943660_4093_4.jpg is a low contrast image\n",
      "  warn('%s is a low contrast image' % fname)\n",
      " 33%|███▎      | 40/122 [00:01<00:03, 22.90it/s]/Library/Frameworks/Python.framework/Versions/3.6/lib/python3.6/site-packages/skimage/io/_io.py:140: UserWarning: marigold/mask64/n11943660_15352_3.jpg is a low contrast image\n",
      "  warn('%s is a low contrast image' % fname)\n",
      " 92%|█████████▏| 112/122 [00:05<00:00, 22.93it/s]/Library/Frameworks/Python.framework/Versions/3.6/lib/python3.6/site-packages/skimage/io/_io.py:140: UserWarning: marigold/mask64/n11943660_6514_4.jpg is a low contrast image\n",
      "  warn('%s is a low contrast image' % fname)\n",
      "100%|██████████| 122/122 [00:05<00:00, 21.35it/s]\n",
      "  4%|▎         | 2/57 [00:00<00:03, 14.27it/s]"
     ]
    },
    {
     "name": "stdout",
     "output_type": "stream",
     "text": [
      "process folder butterfly_orchid\n",
      "found %d masks.. 57\n"
     ]
    },
    {
     "name": "stderr",
     "output_type": "stream",
     "text": [
      " 51%|█████     | 29/57 [00:01<00:01, 18.94it/s]/Library/Frameworks/Python.framework/Versions/3.6/lib/python3.6/site-packages/skimage/io/_io.py:140: UserWarning: butterfly_orchid/mask64/n12043836_10116_3.jpg is a low contrast image\n",
      "  warn('%s is a low contrast image' % fname)\n",
      " 65%|██████▍   | 37/57 [00:02<00:01, 10.98it/s]/Library/Frameworks/Python.framework/Versions/3.6/lib/python3.6/site-packages/skimage/io/_io.py:140: UserWarning: butterfly_orchid/mask64/n12043836_2199_1.jpg is a low contrast image\n",
      "  warn('%s is a low contrast image' % fname)\n",
      "/Library/Frameworks/Python.framework/Versions/3.6/lib/python3.6/site-packages/skimage/io/_io.py:140: UserWarning: butterfly_orchid/mask64/n12043836_2199_2.jpg is a low contrast image\n",
      "  warn('%s is a low contrast image' % fname)\n",
      "/Library/Frameworks/Python.framework/Versions/3.6/lib/python3.6/site-packages/skimage/io/_io.py:140: UserWarning: butterfly_orchid/mask64/n12043836_2199_3.jpg is a low contrast image\n",
      "  warn('%s is a low contrast image' % fname)\n",
      "/Library/Frameworks/Python.framework/Versions/3.6/lib/python3.6/site-packages/skimage/io/_io.py:140: UserWarning: butterfly_orchid/mask64/n12043836_2199_4.jpg is a low contrast image\n",
      "  warn('%s is a low contrast image' % fname)\n",
      "100%|██████████| 57/57 [00:02<00:00, 19.01it/s]\n",
      "  1%|          | 3/418 [00:00<00:16, 25.71it/s]"
     ]
    },
    {
     "name": "stdout",
     "output_type": "stream",
     "text": [
      "process folder daisy\n",
      "found %d masks.. 418\n"
     ]
    },
    {
     "name": "stderr",
     "output_type": "stream",
     "text": [
      "  4%|▎         | 15/418 [00:00<00:13, 28.88it/s]/Library/Frameworks/Python.framework/Versions/3.6/lib/python3.6/site-packages/skimage/io/_io.py:140: UserWarning: daisy/mask64/n11939491_6833_2.jpg is a low contrast image\n",
      "  warn('%s is a low contrast image' % fname)\n",
      "/Library/Frameworks/Python.framework/Versions/3.6/lib/python3.6/site-packages/skimage/io/_io.py:140: UserWarning: daisy/image64/n11939491_6833._3.jpg is a low contrast image\n",
      "  warn('%s is a low contrast image' % fname)\n",
      "/Library/Frameworks/Python.framework/Versions/3.6/lib/python3.6/site-packages/skimage/io/_io.py:140: UserWarning: daisy/mask64/n11939491_6833_3.jpg is a low contrast image\n",
      "  warn('%s is a low contrast image' % fname)\n",
      "/Library/Frameworks/Python.framework/Versions/3.6/lib/python3.6/site-packages/skimage/io/_io.py:140: UserWarning: daisy/image64/n11939491_6833._4.jpg is a low contrast image\n",
      "  warn('%s is a low contrast image' % fname)\n",
      "/Library/Frameworks/Python.framework/Versions/3.6/lib/python3.6/site-packages/skimage/io/_io.py:140: UserWarning: daisy/mask64/n11939491_6833_4.jpg is a low contrast image\n",
      "  warn('%s is a low contrast image' % fname)\n",
      "  4%|▍         | 18/418 [00:00<00:14, 27.39it/s]/Library/Frameworks/Python.framework/Versions/3.6/lib/python3.6/site-packages/skimage/io/_io.py:140: UserWarning: daisy/mask64/n11939491_57627_3.jpg is a low contrast image\n",
      "  warn('%s is a low contrast image' % fname)\n",
      " 16%|█▋        | 68/418 [00:02<00:11, 29.63it/s]/Library/Frameworks/Python.framework/Versions/3.6/lib/python3.6/site-packages/skimage/io/_io.py:140: UserWarning: daisy/mask64/n11939491_7336_2.jpg is a low contrast image\n",
      "  warn('%s is a low contrast image' % fname)\n",
      " 42%|████▏     | 177/418 [00:06<00:09, 25.26it/s]/Library/Frameworks/Python.framework/Versions/3.6/lib/python3.6/site-packages/skimage/io/_io.py:140: UserWarning: daisy/mask64/n11939491_24285_3.jpg is a low contrast image\n",
      "  warn('%s is a low contrast image' % fname)\n",
      " 49%|████▉     | 204/418 [00:07<00:07, 28.81it/s]/Library/Frameworks/Python.framework/Versions/3.6/lib/python3.6/site-packages/skimage/io/_io.py:140: UserWarning: daisy/mask64/n11939491_22397_3.jpg is a low contrast image\n",
      "  warn('%s is a low contrast image' % fname)\n",
      " 59%|█████▊    | 245/418 [00:08<00:06, 26.43it/s]/Library/Frameworks/Python.framework/Versions/3.6/lib/python3.6/site-packages/skimage/io/_io.py:140: UserWarning: daisy/mask64/n11939491_7603_4.jpg is a low contrast image\n",
      "  warn('%s is a low contrast image' % fname)\n",
      " 65%|██████▍   | 271/418 [00:09<00:04, 31.01it/s]/Library/Frameworks/Python.framework/Versions/3.6/lib/python3.6/site-packages/skimage/io/_io.py:140: UserWarning: daisy/mask64/n11939491_6324_3.jpg is a low contrast image\n",
      "  warn('%s is a low contrast image' % fname)\n",
      " 66%|██████▌   | 275/418 [00:09<00:05, 28.23it/s]/Library/Frameworks/Python.framework/Versions/3.6/lib/python3.6/site-packages/skimage/io/_io.py:140: UserWarning: daisy/mask64/n11939491_9981_2.jpg is a low contrast image\n",
      "  warn('%s is a low contrast image' % fname)\n",
      " 75%|███████▌  | 314/418 [00:10<00:03, 34.31it/s]/Library/Frameworks/Python.framework/Versions/3.6/lib/python3.6/site-packages/skimage/io/_io.py:140: UserWarning: daisy/mask64/n11939491_19296_3.jpg is a low contrast image\n",
      "  warn('%s is a low contrast image' % fname)\n",
      "100%|██████████| 418/418 [00:14<00:00, 25.62it/s]\n",
      "  4%|▍         | 5/131 [00:00<00:03, 36.01it/s]"
     ]
    },
    {
     "name": "stdout",
     "output_type": "stream",
     "text": [
      "process folder disa\n",
      "found %d masks.. 131\n"
     ]
    },
    {
     "name": "stderr",
     "output_type": "stream",
     "text": [
      " 58%|█████▊    | 76/131 [00:03<00:02, 26.43it/s]/Library/Frameworks/Python.framework/Versions/3.6/lib/python3.6/site-packages/skimage/io/_io.py:140: UserWarning: disa/mask64/n12059625_7291_4.jpg is a low contrast image\n",
      "  warn('%s is a low contrast image' % fname)\n",
      "100%|██████████| 131/131 [00:05<00:00, 22.48it/s]\n",
      "  4%|▍         | 3/80 [00:00<00:03, 23.88it/s]"
     ]
    },
    {
     "name": "stdout",
     "output_type": "stream",
     "text": [
      "process folder delphinium\n",
      "found %d masks.. 80\n"
     ]
    },
    {
     "name": "stderr",
     "output_type": "stream",
     "text": [
      " 24%|██▍       | 19/80 [00:00<00:02, 21.17it/s]/Library/Frameworks/Python.framework/Versions/3.6/lib/python3.6/site-packages/skimage/io/_io.py:140: UserWarning: delphinium/mask64/n11733054_2110_3.jpg is a low contrast image\n",
      "  warn('%s is a low contrast image' % fname)\n",
      " 39%|███▉      | 31/80 [00:01<00:02, 22.28it/s]/Library/Frameworks/Python.framework/Versions/3.6/lib/python3.6/site-packages/skimage/io/_io.py:140: UserWarning: delphinium/mask64/n11733054_10388_1.jpg is a low contrast image\n",
      "  warn('%s is a low contrast image' % fname)\n",
      "/Library/Frameworks/Python.framework/Versions/3.6/lib/python3.6/site-packages/skimage/io/_io.py:140: UserWarning: delphinium/mask64/n11733054_1495_3.jpg is a low contrast image\n",
      "  warn('%s is a low contrast image' % fname)\n",
      " 42%|████▎     | 34/80 [00:01<00:01, 23.24it/s]/Library/Frameworks/Python.framework/Versions/3.6/lib/python3.6/site-packages/skimage/io/_io.py:140: UserWarning: delphinium/mask64/n11733054_1906_4.jpg is a low contrast image\n",
      "  warn('%s is a low contrast image' % fname)\n",
      " 46%|████▋     | 37/80 [00:01<00:01, 23.38it/s]/Library/Frameworks/Python.framework/Versions/3.6/lib/python3.6/site-packages/skimage/io/_io.py:140: UserWarning: delphinium/mask64/n11733054_522_1.jpg is a low contrast image\n",
      "  warn('%s is a low contrast image' % fname)\n",
      " 50%|█████     | 40/80 [00:01<00:01, 23.19it/s]/Library/Frameworks/Python.framework/Versions/3.6/lib/python3.6/site-packages/skimage/io/_io.py:140: UserWarning: delphinium/mask64/n11733054_318_3.jpg is a low contrast image\n",
      "  warn('%s is a low contrast image' % fname)\n",
      " 72%|███████▎  | 58/80 [00:02<00:00, 22.35it/s]/Library/Frameworks/Python.framework/Versions/3.6/lib/python3.6/site-packages/skimage/io/_io.py:140: UserWarning: delphinium/mask64/n11733054_12208_3.jpg is a low contrast image\n",
      "  warn('%s is a low contrast image' % fname)\n",
      "100%|██████████| 80/80 [00:03<00:00, 22.14it/s]\n",
      "  3%|▎         | 3/92 [00:00<00:03, 27.40it/s]/Library/Frameworks/Python.framework/Versions/3.6/lib/python3.6/site-packages/skimage/io/_io.py:140: UserWarning: grass_pink/mask64/n12049282_9904_2.jpg is a low contrast image\n",
      "  warn('%s is a low contrast image' % fname)\n"
     ]
    },
    {
     "name": "stdout",
     "output_type": "stream",
     "text": [
      "process folder grass_pink\n",
      "found %d masks.. 92\n"
     ]
    },
    {
     "name": "stderr",
     "output_type": "stream",
     "text": [
      "100%|██████████| 92/92 [00:04<00:00, 21.50it/s]\n",
      "  2%|▏         | 3/136 [00:00<00:04, 28.23it/s]"
     ]
    },
    {
     "name": "stdout",
     "output_type": "stream",
     "text": [
      "process folder blue_columbine\n",
      "found %d masks.. 136\n"
     ]
    },
    {
     "name": "stderr",
     "output_type": "stream",
     "text": [
      " 46%|████▋     | 63/136 [00:02<00:03, 21.67it/s]/Library/Frameworks/Python.framework/Versions/3.6/lib/python3.6/site-packages/skimage/io/_io.py:140: UserWarning: blue_columbine/mask64/n11727540_482_2.jpg is a low contrast image\n",
      "  warn('%s is a low contrast image' % fname)\n",
      "/Library/Frameworks/Python.framework/Versions/3.6/lib/python3.6/site-packages/skimage/io/_io.py:140: UserWarning: blue_columbine/mask64/n11727540_482_3.jpg is a low contrast image\n",
      "  warn('%s is a low contrast image' % fname)\n",
      " 88%|████████▊ | 120/136 [00:05<00:00, 24.35it/s]/Library/Frameworks/Python.framework/Versions/3.6/lib/python3.6/site-packages/skimage/io/_io.py:140: UserWarning: blue_columbine/mask64/n11727540_945_1.jpg is a low contrast image\n",
      "  warn('%s is a low contrast image' % fname)\n",
      "100%|██████████| 136/136 [00:06<00:00, 22.18it/s]\n",
      "  4%|▍         | 3/71 [00:00<00:03, 18.36it/s]"
     ]
    },
    {
     "name": "stdout",
     "output_type": "stream",
     "text": [
      "process folder china_aster\n",
      "found %d masks.. 71\n"
     ]
    },
    {
     "name": "stderr",
     "output_type": "stream",
     "text": [
      " 70%|███████   | 50/71 [00:02<00:00, 25.83it/s]/Library/Frameworks/Python.framework/Versions/3.6/lib/python3.6/site-packages/skimage/io/_io.py:140: UserWarning: china_aster/mask64/n11943992_5042_4.jpg is a low contrast image\n",
      "  warn('%s is a low contrast image' % fname)\n",
      "100%|██████████| 71/71 [00:02<00:00, 24.07it/s]\n",
      "  6%|▋         | 3/47 [00:00<00:01, 22.72it/s]"
     ]
    },
    {
     "name": "stdout",
     "output_type": "stream",
     "text": [
      "process folder baby_breath\n",
      "found %d masks.. 47\n"
     ]
    },
    {
     "name": "stderr",
     "output_type": "stream",
     "text": [
      "/Library/Frameworks/Python.framework/Versions/3.6/lib/python3.6/site-packages/skimage/io/_io.py:140: UserWarning: baby_breath/mask64/n11810358_1909_2.jpg is a low contrast image\n",
      "  warn('%s is a low contrast image' % fname)\n",
      "/Library/Frameworks/Python.framework/Versions/3.6/lib/python3.6/site-packages/skimage/io/_io.py:140: UserWarning: baby_breath/mask64/n11810358_1909_4.jpg is a low contrast image\n",
      "  warn('%s is a low contrast image' % fname)\n",
      " 21%|██▏       | 10/47 [00:00<00:01, 24.34it/s]/Library/Frameworks/Python.framework/Versions/3.6/lib/python3.6/site-packages/skimage/io/_io.py:140: UserWarning: baby_breath/mask64/n11810358_15544_1.jpg is a low contrast image\n",
      "  warn('%s is a low contrast image' % fname)\n",
      "/Library/Frameworks/Python.framework/Versions/3.6/lib/python3.6/site-packages/skimage/io/_io.py:140: UserWarning: baby_breath/mask64/n11810358_15544_2.jpg is a low contrast image\n",
      "  warn('%s is a low contrast image' % fname)\n",
      "/Library/Frameworks/Python.framework/Versions/3.6/lib/python3.6/site-packages/skimage/io/_io.py:140: UserWarning: baby_breath/mask64/n11810358_15544_3.jpg is a low contrast image\n",
      "  warn('%s is a low contrast image' % fname)\n",
      "/Library/Frameworks/Python.framework/Versions/3.6/lib/python3.6/site-packages/skimage/io/_io.py:140: UserWarning: baby_breath/mask64/n11810358_15544_4.jpg is a low contrast image\n",
      "  warn('%s is a low contrast image' % fname)\n",
      " 55%|█████▌    | 26/47 [00:01<00:00, 22.54it/s]/Library/Frameworks/Python.framework/Versions/3.6/lib/python3.6/site-packages/skimage/io/_io.py:140: UserWarning: baby_breath/mask64/n11810358_4166_1.jpg is a low contrast image\n",
      "  warn('%s is a low contrast image' % fname)\n",
      "/Library/Frameworks/Python.framework/Versions/3.6/lib/python3.6/site-packages/skimage/io/_io.py:140: UserWarning: baby_breath/mask64/n11810358_4166_2.jpg is a low contrast image\n",
      "  warn('%s is a low contrast image' % fname)\n",
      "/Library/Frameworks/Python.framework/Versions/3.6/lib/python3.6/site-packages/skimage/io/_io.py:140: UserWarning: baby_breath/mask64/n11810358_4166_3.jpg is a low contrast image\n",
      "  warn('%s is a low contrast image' % fname)\n",
      "/Library/Frameworks/Python.framework/Versions/3.6/lib/python3.6/site-packages/skimage/io/_io.py:140: UserWarning: baby_breath/mask64/n11810358_4166_4.jpg is a low contrast image\n",
      "  warn('%s is a low contrast image' % fname)\n",
      " 62%|██████▏   | 29/47 [00:01<00:00, 22.95it/s]/Library/Frameworks/Python.framework/Versions/3.6/lib/python3.6/site-packages/skimage/io/_io.py:140: UserWarning: baby_breath/mask64/n11810358_5537_1.jpg is a low contrast image\n",
      "  warn('%s is a low contrast image' % fname)\n",
      "/Library/Frameworks/Python.framework/Versions/3.6/lib/python3.6/site-packages/skimage/io/_io.py:140: UserWarning: baby_breath/mask64/n11810358_5537_2.jpg is a low contrast image\n",
      "  warn('%s is a low contrast image' % fname)\n",
      "/Library/Frameworks/Python.framework/Versions/3.6/lib/python3.6/site-packages/skimage/io/_io.py:140: UserWarning: baby_breath/mask64/n11810358_5537_3.jpg is a low contrast image\n",
      "  warn('%s is a low contrast image' % fname)\n",
      "/Library/Frameworks/Python.framework/Versions/3.6/lib/python3.6/site-packages/skimage/io/_io.py:140: UserWarning: baby_breath/mask64/n11810358_5537_4.jpg is a low contrast image\n",
      "  warn('%s is a low contrast image' % fname)\n",
      " 68%|██████▊   | 32/47 [00:01<00:00, 21.64it/s]/Library/Frameworks/Python.framework/Versions/3.6/lib/python3.6/site-packages/skimage/io/_io.py:140: UserWarning: baby_breath/mask64/n11810358_7135_1.jpg is a low contrast image\n",
      "  warn('%s is a low contrast image' % fname)\n",
      "/Library/Frameworks/Python.framework/Versions/3.6/lib/python3.6/site-packages/skimage/io/_io.py:140: UserWarning: baby_breath/mask64/n11810358_7135_2.jpg is a low contrast image\n",
      "  warn('%s is a low contrast image' % fname)\n",
      "/Library/Frameworks/Python.framework/Versions/3.6/lib/python3.6/site-packages/skimage/io/_io.py:140: UserWarning: baby_breath/mask64/n11810358_7135_3.jpg is a low contrast image\n",
      "  warn('%s is a low contrast image' % fname)\n",
      "/Library/Frameworks/Python.framework/Versions/3.6/lib/python3.6/site-packages/skimage/io/_io.py:140: UserWarning: baby_breath/mask64/n11810358_7135_4.jpg is a low contrast image\n",
      "  warn('%s is a low contrast image' % fname)\n",
      "/Library/Frameworks/Python.framework/Versions/3.6/lib/python3.6/site-packages/skimage/io/_io.py:140: UserWarning: baby_breath/mask64/n11810358_24231_1.jpg is a low contrast image\n",
      "  warn('%s is a low contrast image' % fname)\n",
      "/Library/Frameworks/Python.framework/Versions/3.6/lib/python3.6/site-packages/skimage/io/_io.py:140: UserWarning: baby_breath/mask64/n11810358_7900_1.jpg is a low contrast image\n",
      "  warn('%s is a low contrast image' % fname)\n",
      "/Library/Frameworks/Python.framework/Versions/3.6/lib/python3.6/site-packages/skimage/io/_io.py:140: UserWarning: baby_breath/mask64/n11810358_7900_2.jpg is a low contrast image\n",
      "  warn('%s is a low contrast image' % fname)\n",
      "/Library/Frameworks/Python.framework/Versions/3.6/lib/python3.6/site-packages/skimage/io/_io.py:140: UserWarning: baby_breath/mask64/n11810358_7900_3.jpg is a low contrast image\n",
      "  warn('%s is a low contrast image' % fname)\n",
      "/Library/Frameworks/Python.framework/Versions/3.6/lib/python3.6/site-packages/skimage/io/_io.py:140: UserWarning: baby_breath/mask64/n11810358_7900_4.jpg is a low contrast image\n",
      "  warn('%s is a low contrast image' % fname)\n",
      " 81%|████████  | 38/47 [00:01<00:00, 22.48it/s]/Library/Frameworks/Python.framework/Versions/3.6/lib/python3.6/site-packages/skimage/io/_io.py:140: UserWarning: baby_breath/mask64/n11810358_24708_1.jpg is a low contrast image\n",
      "  warn('%s is a low contrast image' % fname)\n",
      "/Library/Frameworks/Python.framework/Versions/3.6/lib/python3.6/site-packages/skimage/io/_io.py:140: UserWarning: baby_breath/mask64/n11810358_24708_3.jpg is a low contrast image\n",
      "  warn('%s is a low contrast image' % fname)\n",
      "/Library/Frameworks/Python.framework/Versions/3.6/lib/python3.6/site-packages/skimage/io/_io.py:140: UserWarning: baby_breath/mask64/n11810358_24708_4.jpg is a low contrast image\n",
      "  warn('%s is a low contrast image' % fname)\n",
      " 87%|████████▋ | 41/47 [00:01<00:00, 22.22it/s]/Library/Frameworks/Python.framework/Versions/3.6/lib/python3.6/site-packages/skimage/io/_io.py:140: UserWarning: baby_breath/mask64/n11810358_8312_2.jpg is a low contrast image\n",
      "  warn('%s is a low contrast image' % fname)\n",
      "100%|██████████| 47/47 [00:02<00:00, 22.95it/s]\n",
      "  3%|▎         | 4/147 [00:00<00:04, 28.84it/s]"
     ]
    },
    {
     "name": "stdout",
     "output_type": "stream",
     "text": [
      "process folder fragrant_orchid\n",
      "found %d masks.. 147\n"
     ]
    },
    {
     "name": "stderr",
     "output_type": "stream",
     "text": [
      " 22%|██▏       | 33/147 [00:01<00:04, 25.28it/s]/Library/Frameworks/Python.framework/Versions/3.6/lib/python3.6/site-packages/skimage/io/_io.py:140: UserWarning: fragrant_orchid/mask64/n12064389_1510_4.jpg is a low contrast image\n",
      "  warn('%s is a low contrast image' % fname)\n",
      " 96%|█████████▌| 141/147 [00:06<00:00, 16.41it/s]/Library/Frameworks/Python.framework/Versions/3.6/lib/python3.6/site-packages/skimage/io/_io.py:140: UserWarning: fragrant_orchid/mask64/n12064389_3343_1.jpg is a low contrast image\n",
      "  warn('%s is a low contrast image' % fname)\n",
      "/Library/Frameworks/Python.framework/Versions/3.6/lib/python3.6/site-packages/skimage/io/_io.py:140: UserWarning: fragrant_orchid/mask64/n12064389_3343_2.jpg is a low contrast image\n",
      "  warn('%s is a low contrast image' % fname)\n",
      "100%|██████████| 147/147 [00:07<00:00, 15.58it/s]\n",
      "  1%|          | 4/340 [00:00<00:09, 34.39it/s]"
     ]
    },
    {
     "name": "stdout",
     "output_type": "stream",
     "text": [
      "process folder flower1924\n",
      "found %d masks.. 340\n"
     ]
    },
    {
     "name": "stderr",
     "output_type": "stream",
     "text": [
      "  8%|▊         | 27/340 [00:00<00:06, 45.58it/s]/Library/Frameworks/Python.framework/Versions/3.6/lib/python3.6/site-packages/skimage/io/_io.py:140: UserWarning: flower1924/mask64/n11669921_22200_2.jpg is a low contrast image\n",
      "  warn('%s is a low contrast image' % fname)\n",
      " 22%|██▏       | 75/340 [00:01<00:04, 56.78it/s]/Library/Frameworks/Python.framework/Versions/3.6/lib/python3.6/site-packages/skimage/io/_io.py:140: UserWarning: flower1924/mask64/n11669921_22004_2.jpg is a low contrast image\n",
      "  warn('%s is a low contrast image' % fname)\n",
      " 24%|██▍       | 81/340 [00:01<00:05, 48.39it/s]/Library/Frameworks/Python.framework/Versions/3.6/lib/python3.6/site-packages/skimage/io/_io.py:140: UserWarning: flower1924/mask64/n11669921_15508_3.jpg is a low contrast image\n",
      "  warn('%s is a low contrast image' % fname)\n",
      " 29%|██▊       | 97/340 [00:02<00:06, 36.76it/s]/Library/Frameworks/Python.framework/Versions/3.6/lib/python3.6/site-packages/skimage/io/_io.py:140: UserWarning: flower1924/mask64/n11669921_26012_1.jpg is a low contrast image\n",
      "  warn('%s is a low contrast image' % fname)\n",
      "/Library/Frameworks/Python.framework/Versions/3.6/lib/python3.6/site-packages/skimage/io/_io.py:140: UserWarning: flower1924/mask64/n11669921_26012_2.jpg is a low contrast image\n",
      "  warn('%s is a low contrast image' % fname)\n",
      "/Library/Frameworks/Python.framework/Versions/3.6/lib/python3.6/site-packages/skimage/io/_io.py:140: UserWarning: flower1924/mask64/n11669921_26012_3.jpg is a low contrast image\n",
      "  warn('%s is a low contrast image' % fname)\n",
      "/Library/Frameworks/Python.framework/Versions/3.6/lib/python3.6/site-packages/skimage/io/_io.py:140: UserWarning: flower1924/mask64/n11669921_26012_4.jpg is a low contrast image\n",
      "  warn('%s is a low contrast image' % fname)\n",
      "100%|██████████| 340/340 [00:07<00:00, 51.10it/s]\n",
      "  2%|▏         | 2/130 [00:00<00:07, 17.07it/s]"
     ]
    },
    {
     "name": "stdout",
     "output_type": "stream",
     "text": [
      "process folder nigella\n",
      "found %d masks.. 130\n"
     ]
    },
    {
     "name": "stderr",
     "output_type": "stream",
     "text": [
      " 12%|█▏        | 15/130 [00:00<00:05, 20.18it/s]/Library/Frameworks/Python.framework/Versions/3.6/lib/python3.6/site-packages/skimage/io/_io.py:140: UserWarning: nigella/mask64/n11736694_11988_3.jpg is a low contrast image\n",
      "  warn('%s is a low contrast image' % fname)\n",
      "100%|██████████| 130/130 [00:06<00:00, 21.53it/s]\n",
      "  3%|▎         | 3/108 [00:00<00:04, 23.82it/s]"
     ]
    },
    {
     "name": "stdout",
     "output_type": "stream",
     "text": [
      "process folder cosmos\n",
      "found %d masks.. 108\n"
     ]
    },
    {
     "name": "stderr",
     "output_type": "stream",
     "text": [
      "  8%|▊         | 9/108 [00:00<00:04, 23.18it/s]/Library/Frameworks/Python.framework/Versions/3.6/lib/python3.6/site-packages/skimage/io/_io.py:140: UserWarning: cosmos/mask64/n11958080_14198_4.jpg is a low contrast image\n",
      "  warn('%s is a low contrast image' % fname)\n",
      " 19%|█▊        | 20/108 [00:00<00:03, 23.54it/s]/Library/Frameworks/Python.framework/Versions/3.6/lib/python3.6/site-packages/skimage/io/_io.py:140: UserWarning: cosmos/mask64/n11958080_15684_2.jpg is a low contrast image\n",
      "  warn('%s is a low contrast image' % fname)\n",
      " 24%|██▍       | 26/108 [00:01<00:03, 22.28it/s]/Library/Frameworks/Python.framework/Versions/3.6/lib/python3.6/site-packages/skimage/io/_io.py:140: UserWarning: cosmos/mask64/n11958080_7682_3.jpg is a low contrast image\n",
      "  warn('%s is a low contrast image' % fname)\n",
      " 41%|████      | 44/108 [00:01<00:03, 21.25it/s]/Library/Frameworks/Python.framework/Versions/3.6/lib/python3.6/site-packages/skimage/io/_io.py:140: UserWarning: cosmos/mask64/n11958080_10199_1.jpg is a low contrast image\n",
      "  warn('%s is a low contrast image' % fname)\n",
      "100%|██████████| 108/108 [00:04<00:00, 23.14it/s]\n",
      "  0%|          | 0/66 [00:00<?, ?it/s]"
     ]
    },
    {
     "name": "stdout",
     "output_type": "stream",
     "text": [
      "process folder yellow_chamomile\n",
      "found %d masks.. 66\n"
     ]
    },
    {
     "name": "stderr",
     "output_type": "stream",
     "text": [
      " 26%|██▌       | 17/66 [00:00<00:02, 18.26it/s]/Library/Frameworks/Python.framework/Versions/3.6/lib/python3.6/site-packages/skimage/io/_io.py:140: UserWarning: yellow_chamomile/mask64/n11923397_1320_3.jpg is a low contrast image\n",
      "  warn('%s is a low contrast image' % fname)\n",
      " 36%|███▋      | 24/66 [00:01<00:01, 21.11it/s]/Library/Frameworks/Python.framework/Versions/3.6/lib/python3.6/site-packages/skimage/io/_io.py:140: UserWarning: yellow_chamomile/mask64/n11923397_8955_1.jpg is a low contrast image\n",
      "  warn('%s is a low contrast image' % fname)\n",
      " 79%|███████▉  | 52/66 [00:02<00:00, 23.56it/s]/Library/Frameworks/Python.framework/Versions/3.6/lib/python3.6/site-packages/skimage/io/_io.py:140: UserWarning: yellow_chamomile/mask64/n11923397_6494_3.jpg is a low contrast image\n",
      "  warn('%s is a low contrast image' % fname)\n",
      "100%|██████████| 66/66 [00:03<00:00, 21.55it/s]\n",
      "  3%|▎         | 3/87 [00:00<00:03, 26.04it/s]"
     ]
    },
    {
     "name": "stdout",
     "output_type": "stream",
     "text": [
      "process folder virginia_spring\n",
      "found %d masks.. 87\n"
     ]
    },
    {
     "name": "stderr",
     "output_type": "stream",
     "text": [
      "  6%|▌         | 5/87 [00:00<00:03, 23.77it/s]/Library/Frameworks/Python.framework/Versions/3.6/lib/python3.6/site-packages/skimage/io/_io.py:140: UserWarning: virginia_spring/mask64/n11859737_4749_1.jpg is a low contrast image\n",
      "  warn('%s is a low contrast image' % fname)\n",
      "100%|██████████| 87/87 [00:04<00:00, 21.00it/s]\n",
      "  2%|▏         | 4/174 [00:00<00:05, 32.11it/s]"
     ]
    },
    {
     "name": "stdout",
     "output_type": "stream",
     "text": [
      "process folder corydalis\n",
      "found %d masks.. 174\n"
     ]
    },
    {
     "name": "stderr",
     "output_type": "stream",
     "text": [
      " 39%|███▊      | 67/174 [00:01<00:02, 46.07it/s]/Library/Frameworks/Python.framework/Versions/3.6/lib/python3.6/site-packages/skimage/io/_io.py:140: UserWarning: corydalis/mask64/n11904109_857_4.jpg is a low contrast image\n",
      "  warn('%s is a low contrast image' % fname)\n",
      "100%|██████████| 174/174 [00:03<00:00, 44.80it/s]\n",
      "  3%|▎         | 3/87 [00:00<00:03, 21.36it/s]"
     ]
    },
    {
     "name": "stdout",
     "output_type": "stream",
     "text": [
      "process folder vanda\n",
      "found %d masks.. 87\n"
     ]
    },
    {
     "name": "stderr",
     "output_type": "stream",
     "text": [
      "100%|██████████| 87/87 [00:03<00:00, 24.69it/s]\n",
      "  2%|▏         | 3/134 [00:00<00:05, 24.54it/s]"
     ]
    },
    {
     "name": "stdout",
     "output_type": "stream",
     "text": [
      "process folder yellow_lady_slipper\n",
      "found %d masks.. 134\n"
     ]
    },
    {
     "name": "stderr",
     "output_type": "stream",
     "text": [
      " 16%|█▌        | 21/134 [00:00<00:04, 23.38it/s]/Library/Frameworks/Python.framework/Versions/3.6/lib/python3.6/site-packages/skimage/io/_io.py:140: UserWarning: yellow_lady_slipper/mask64/n12057447_1106_2.jpg is a low contrast image\n",
      "  warn('%s is a low contrast image' % fname)\n",
      "/Library/Frameworks/Python.framework/Versions/3.6/lib/python3.6/site-packages/skimage/io/_io.py:140: UserWarning: yellow_lady_slipper/mask64/n12057447_1106_3.jpg is a low contrast image\n",
      "  warn('%s is a low contrast image' % fname)\n",
      "/Library/Frameworks/Python.framework/Versions/3.6/lib/python3.6/site-packages/skimage/io/_io.py:140: UserWarning: yellow_lady_slipper/mask64/n12057447_1106_4.jpg is a low contrast image\n",
      "  warn('%s is a low contrast image' % fname)\n",
      " 78%|███████▊  | 105/134 [00:05<00:01, 17.66it/s]/Library/Frameworks/Python.framework/Versions/3.6/lib/python3.6/site-packages/skimage/io/_io.py:140: UserWarning: yellow_lady_slipper/mask64/n12057447_1069_2.jpg is a low contrast image\n",
      "  warn('%s is a low contrast image' % fname)\n",
      "/Library/Frameworks/Python.framework/Versions/3.6/lib/python3.6/site-packages/skimage/io/_io.py:140: UserWarning: yellow_lady_slipper/mask64/n12057447_1069_4.jpg is a low contrast image\n",
      "  warn('%s is a low contrast image' % fname)\n",
      "100%|██████████| 134/134 [00:06<00:00, 20.04it/s]\n",
      "  3%|▎         | 3/97 [00:00<00:03, 24.99it/s]"
     ]
    },
    {
     "name": "stdout",
     "output_type": "stream",
     "text": [
      "process folder globe_amaranth\n",
      "found %d masks.. 97\n"
     ]
    },
    {
     "name": "stderr",
     "output_type": "stream",
     "text": [
      " 44%|████▍     | 43/97 [00:02<00:02, 22.83it/s]/Library/Frameworks/Python.framework/Versions/3.6/lib/python3.6/site-packages/skimage/io/_io.py:140: UserWarning: globe_amaranth/mask64/n11826198_10446_1.jpg is a low contrast image\n",
      "  warn('%s is a low contrast image' % fname)\n",
      " 47%|████▋     | 46/97 [00:03<00:02, 21.41it/s]/Library/Frameworks/Python.framework/Versions/3.6/lib/python3.6/site-packages/skimage/io/_io.py:140: UserWarning: globe_amaranth/mask64/n11826198_1259_1.jpg is a low contrast image\n",
      "  warn('%s is a low contrast image' % fname)\n",
      "/Library/Frameworks/Python.framework/Versions/3.6/lib/python3.6/site-packages/skimage/io/_io.py:140: UserWarning: globe_amaranth/mask64/n11826198_1259_2.jpg is a low contrast image\n",
      "  warn('%s is a low contrast image' % fname)\n",
      "/Library/Frameworks/Python.framework/Versions/3.6/lib/python3.6/site-packages/skimage/io/_io.py:140: UserWarning: globe_amaranth/mask64/n11826198_1259_3.jpg is a low contrast image\n",
      "  warn('%s is a low contrast image' % fname)\n",
      "/Library/Frameworks/Python.framework/Versions/3.6/lib/python3.6/site-packages/skimage/io/_io.py:140: UserWarning: globe_amaranth/mask64/n11826198_1259_4.jpg is a low contrast image\n",
      "  warn('%s is a low contrast image' % fname)\n",
      "/Library/Frameworks/Python.framework/Versions/3.6/lib/python3.6/site-packages/skimage/io/_io.py:140: UserWarning: globe_amaranth/mask64/n11826198_4453_1.jpg is a low contrast image\n",
      "  warn('%s is a low contrast image' % fname)\n",
      "/Library/Frameworks/Python.framework/Versions/3.6/lib/python3.6/site-packages/skimage/io/_io.py:140: UserWarning: globe_amaranth/mask64/n11826198_4453_3.jpg is a low contrast image\n",
      "  warn('%s is a low contrast image' % fname)\n",
      " 54%|█████▎    | 52/97 [00:03<00:02, 22.00it/s]/Library/Frameworks/Python.framework/Versions/3.6/lib/python3.6/site-packages/skimage/io/_io.py:140: UserWarning: globe_amaranth/mask64/n11826198_7177_4.jpg is a low contrast image\n",
      "  warn('%s is a low contrast image' % fname)\n",
      " 60%|█████▉    | 58/97 [00:03<00:01, 21.96it/s]/Library/Frameworks/Python.framework/Versions/3.6/lib/python3.6/site-packages/skimage/io/_io.py:140: UserWarning: globe_amaranth/mask64/n11826198_4720_4.jpg is a low contrast image\n",
      "  warn('%s is a low contrast image' % fname)\n",
      " 63%|██████▎   | 61/97 [00:03<00:01, 22.68it/s]/Library/Frameworks/Python.framework/Versions/3.6/lib/python3.6/site-packages/skimage/io/_io.py:140: UserWarning: globe_amaranth/mask64/n11826198_10091_1.jpg is a low contrast image\n",
      "  warn('%s is a low contrast image' % fname)\n",
      "/Library/Frameworks/Python.framework/Versions/3.6/lib/python3.6/site-packages/skimage/io/_io.py:140: UserWarning: globe_amaranth/mask64/n11826198_10091_2.jpg is a low contrast image\n",
      "  warn('%s is a low contrast image' % fname)\n",
      "/Library/Frameworks/Python.framework/Versions/3.6/lib/python3.6/site-packages/skimage/io/_io.py:140: UserWarning: globe_amaranth/mask64/n11826198_10091_3.jpg is a low contrast image\n",
      "  warn('%s is a low contrast image' % fname)\n",
      "/Library/Frameworks/Python.framework/Versions/3.6/lib/python3.6/site-packages/skimage/io/_io.py:140: UserWarning: globe_amaranth/mask64/n11826198_10091_4.jpg is a low contrast image\n",
      "  warn('%s is a low contrast image' % fname)\n",
      " 73%|███████▎  | 71/97 [00:04<00:01, 23.30it/s]/Library/Frameworks/Python.framework/Versions/3.6/lib/python3.6/site-packages/skimage/io/_io.py:140: UserWarning: globe_amaranth/mask64/n11826198_3887_1.jpg is a low contrast image\n",
      "  warn('%s is a low contrast image' % fname)\n",
      "/Library/Frameworks/Python.framework/Versions/3.6/lib/python3.6/site-packages/skimage/io/_io.py:140: UserWarning: globe_amaranth/mask64/n11826198_3887_2.jpg is a low contrast image\n",
      "  warn('%s is a low contrast image' % fname)\n",
      "/Library/Frameworks/Python.framework/Versions/3.6/lib/python3.6/site-packages/skimage/io/_io.py:140: UserWarning: globe_amaranth/mask64/n11826198_3887_3.jpg is a low contrast image\n",
      "  warn('%s is a low contrast image' % fname)\n",
      "/Library/Frameworks/Python.framework/Versions/3.6/lib/python3.6/site-packages/skimage/io/_io.py:140: UserWarning: globe_amaranth/mask64/n11826198_3887_4.jpg is a low contrast image\n",
      "  warn('%s is a low contrast image' % fname)\n",
      " 93%|█████████▎| 90/97 [00:05<00:00, 18.28it/s]/Library/Frameworks/Python.framework/Versions/3.6/lib/python3.6/site-packages/skimage/io/_io.py:140: UserWarning: globe_amaranth/mask64/n11826198_13288_1.jpg is a low contrast image\n",
      "  warn('%s is a low contrast image' % fname)\n",
      "/Library/Frameworks/Python.framework/Versions/3.6/lib/python3.6/site-packages/skimage/io/_io.py:140: UserWarning: globe_amaranth/mask64/n11826198_13288_2.jpg is a low contrast image\n",
      "  warn('%s is a low contrast image' % fname)\n",
      "/Library/Frameworks/Python.framework/Versions/3.6/lib/python3.6/site-packages/skimage/io/_io.py:140: UserWarning: globe_amaranth/mask64/n11826198_13288_4.jpg is a low contrast image\n",
      "  warn('%s is a low contrast image' % fname)\n",
      "100%|██████████| 97/97 [00:05<00:00, 18.05it/s]\n",
      "  3%|▎         | 3/98 [00:00<00:04, 20.94it/s]"
     ]
    },
    {
     "name": "stdout",
     "output_type": "stream",
     "text": [
      "process folder pink\n",
      "found %d masks.. 98\n"
     ]
    },
    {
     "name": "stderr",
     "output_type": "stream",
     "text": [
      " 59%|█████▉    | 58/98 [00:02<00:01, 23.18it/s]/Library/Frameworks/Python.framework/Versions/3.6/lib/python3.6/site-packages/skimage/io/_io.py:140: UserWarning: pink/mask64/n11807979_11977_1.jpg is a low contrast image\n",
      "  warn('%s is a low contrast image' % fname)\n",
      " 62%|██████▏   | 61/98 [00:02<00:01, 23.19it/s]/Library/Frameworks/Python.framework/Versions/3.6/lib/python3.6/site-packages/skimage/io/_io.py:140: UserWarning: pink/mask64/n11807979_2301_3.jpg is a low contrast image\n",
      "  warn('%s is a low contrast image' % fname)\n",
      "/Library/Frameworks/Python.framework/Versions/3.6/lib/python3.6/site-packages/skimage/io/_io.py:140: UserWarning: pink/mask64/n11807979_2301_4.jpg is a low contrast image\n",
      "  warn('%s is a low contrast image' % fname)\n",
      " 84%|████████▎ | 82/98 [00:03<00:00, 22.04it/s]/Library/Frameworks/Python.framework/Versions/3.6/lib/python3.6/site-packages/skimage/io/_io.py:140: UserWarning: pink/mask64/n11807979_60720_3.jpg is a low contrast image\n",
      "  warn('%s is a low contrast image' % fname)\n",
      "100%|██████████| 98/98 [00:04<00:00, 22.35it/s]\n",
      "  0%|          | 0/134 [00:00<?, ?it/s]/Library/Frameworks/Python.framework/Versions/3.6/lib/python3.6/site-packages/skimage/io/_io.py:140: UserWarning: gazania/mask64/n11971406_6848_3.jpg is a low contrast image\n",
      "  warn('%s is a low contrast image' % fname)\n",
      "  2%|▏         | 3/134 [00:00<00:06, 20.23it/s]"
     ]
    },
    {
     "name": "stdout",
     "output_type": "stream",
     "text": [
      "process folder gazania\n",
      "found %d masks.. 134\n"
     ]
    },
    {
     "name": "stderr",
     "output_type": "stream",
     "text": [
      " 43%|████▎     | 58/134 [00:02<00:03, 21.56it/s]/Library/Frameworks/Python.framework/Versions/3.6/lib/python3.6/site-packages/skimage/io/_io.py:140: UserWarning: gazania/mask64/n11971406_11076_1.jpg is a low contrast image\n",
      "  warn('%s is a low contrast image' % fname)\n",
      " 66%|██████▌   | 88/134 [00:04<00:02, 21.82it/s]/Library/Frameworks/Python.framework/Versions/3.6/lib/python3.6/site-packages/skimage/io/_io.py:140: UserWarning: gazania/mask64/n11971406_4161_1.jpg is a low contrast image\n",
      "  warn('%s is a low contrast image' % fname)\n",
      " 70%|███████   | 94/134 [00:04<00:01, 22.12it/s]/Library/Frameworks/Python.framework/Versions/3.6/lib/python3.6/site-packages/skimage/io/_io.py:140: UserWarning: gazania/mask64/n11971406_2672_1.jpg is a low contrast image\n",
      "  warn('%s is a low contrast image' % fname)\n",
      " 75%|███████▍  | 100/134 [00:04<00:01, 22.49it/s]/Library/Frameworks/Python.framework/Versions/3.6/lib/python3.6/site-packages/skimage/io/_io.py:140: UserWarning: gazania/mask64/n11971406_6699_4.jpg is a low contrast image\n",
      "  warn('%s is a low contrast image' % fname)\n",
      " 88%|████████▊ | 118/134 [00:05<00:00, 22.47it/s]/Library/Frameworks/Python.framework/Versions/3.6/lib/python3.6/site-packages/skimage/io/_io.py:140: UserWarning: gazania/mask64/n11971406_9802_2.jpg is a low contrast image\n",
      "  warn('%s is a low contrast image' % fname)\n",
      " 90%|█████████ | 121/134 [00:05<00:00, 22.50it/s]/Library/Frameworks/Python.framework/Versions/3.6/lib/python3.6/site-packages/skimage/io/_io.py:140: UserWarning: gazania/mask64/n11971406_3082_4.jpg is a low contrast image\n",
      "  warn('%s is a low contrast image' % fname)\n",
      "100%|██████████| 134/134 [00:06<00:00, 21.07it/s]\n",
      "  5%|▌         | 3/60 [00:00<00:02, 21.77it/s]"
     ]
    },
    {
     "name": "stdout",
     "output_type": "stream",
     "text": [
      "process folder sandwort\n",
      "found %d masks.. 60\n"
     ]
    },
    {
     "name": "stderr",
     "output_type": "stream",
     "text": [
      " 38%|███▊      | 23/60 [00:02<00:02, 12.41it/s]/Library/Frameworks/Python.framework/Versions/3.6/lib/python3.6/site-packages/skimage/io/_io.py:140: UserWarning: sandwort/mask64/n11805956_5024_2.jpg is a low contrast image\n",
      "  warn('%s is a low contrast image' % fname)\n",
      " 50%|█████     | 30/60 [00:02<00:01, 17.00it/s]/Library/Frameworks/Python.framework/Versions/3.6/lib/python3.6/site-packages/skimage/io/_io.py:140: UserWarning: sandwort/mask64/n11805956_5355_4.jpg is a low contrast image\n",
      "  warn('%s is a low contrast image' % fname)\n",
      "100%|██████████| 60/60 [00:04<00:00, 14.02it/s]\n",
      "  2%|▏         | 3/138 [00:00<00:06, 21.84it/s]"
     ]
    },
    {
     "name": "stdout",
     "output_type": "stream",
     "text": [
      "process folder bee_orchid\n",
      "found %d masks.. 138\n"
     ]
    },
    {
     "name": "stderr",
     "output_type": "stream",
     "text": [
      " 69%|██████▉   | 95/138 [00:04<00:02, 17.61it/s]/Library/Frameworks/Python.framework/Versions/3.6/lib/python3.6/site-packages/skimage/io/_io.py:140: UserWarning: bee_orchid/mask64/n12074867_3878_3.jpg is a low contrast image\n",
      "  warn('%s is a low contrast image' % fname)\n",
      "/Library/Frameworks/Python.framework/Versions/3.6/lib/python3.6/site-packages/skimage/io/_io.py:140: UserWarning: bee_orchid/mask64/n12074867_3878_4.jpg is a low contrast image\n",
      "  warn('%s is a low contrast image' % fname)\n",
      "100%|██████████| 138/138 [00:07<00:00, 18.66it/s]\n",
      "  1%|▏         | 2/146 [00:00<00:08, 17.29it/s]"
     ]
    },
    {
     "name": "stdout",
     "output_type": "stream",
     "text": [
      "process folder make_orchis\n",
      "found %d masks.. 146\n"
     ]
    },
    {
     "name": "stderr",
     "output_type": "stream",
     "text": [
      " 10%|█         | 15/146 [00:00<00:05, 22.14it/s]/Library/Frameworks/Python.framework/Versions/3.6/lib/python3.6/site-packages/skimage/io/_io.py:140: UserWarning: make_orchis/mask64/n12043673_7368_2.jpg is a low contrast image\n",
      "  warn('%s is a low contrast image' % fname)\n",
      " 35%|███▍      | 51/146 [00:03<00:07, 12.20it/s]/Library/Frameworks/Python.framework/Versions/3.6/lib/python3.6/site-packages/skimage/io/_io.py:140: UserWarning: make_orchis/mask64/n12043673_1805_2.jpg is a low contrast image\n",
      "  warn('%s is a low contrast image' % fname)\n",
      "/Library/Frameworks/Python.framework/Versions/3.6/lib/python3.6/site-packages/skimage/io/_io.py:140: UserWarning: make_orchis/mask64/n12043673_1805_3.jpg is a low contrast image\n",
      "  warn('%s is a low contrast image' % fname)\n",
      "/Library/Frameworks/Python.framework/Versions/3.6/lib/python3.6/site-packages/skimage/io/_io.py:140: UserWarning: make_orchis/mask64/n12043673_1805_4.jpg is a low contrast image\n",
      "  warn('%s is a low contrast image' % fname)\n",
      " 75%|███████▍  | 109/146 [00:06<00:01, 21.70it/s]/Library/Frameworks/Python.framework/Versions/3.6/lib/python3.6/site-packages/skimage/io/_io.py:140: UserWarning: make_orchis/mask64/n12043673_1662_1.jpg is a low contrast image\n",
      "  warn('%s is a low contrast image' % fname)\n",
      " 79%|███████▉  | 115/146 [00:06<00:01, 17.82it/s]/Library/Frameworks/Python.framework/Versions/3.6/lib/python3.6/site-packages/skimage/io/_io.py:140: UserWarning: make_orchis/mask64/n12043673_2550_3.jpg is a low contrast image\n",
      "  warn('%s is a low contrast image' % fname)\n",
      "100%|██████████| 146/146 [00:08<00:00, 18.17it/s]\n",
      "  8%|▊         | 3/37 [00:00<00:01, 28.51it/s]"
     ]
    },
    {
     "name": "stdout",
     "output_type": "stream",
     "text": [
      "process folder violet\n",
      "found %d masks.. 37\n"
     ]
    },
    {
     "name": "stderr",
     "output_type": "stream",
     "text": [
      "100%|██████████| 37/37 [00:01<00:00, 22.82it/s]\n",
      "  2%|▏         | 3/141 [00:00<00:05, 25.56it/s]"
     ]
    },
    {
     "name": "stdout",
     "output_type": "stream",
     "text": [
      "process folder celandine\n",
      "found %d masks.. 141\n"
     ]
    },
    {
     "name": "stderr",
     "output_type": "stream",
     "text": [
      "100%|██████████| 141/141 [00:06<00:00, 21.04it/s]\n",
      " 12%|█▏        | 3/26 [00:00<00:00, 27.36it/s]"
     ]
    },
    {
     "name": "stdout",
     "output_type": "stream",
     "text": [
      "process folder soapwort\n",
      "found %d masks.. 26\n"
     ]
    },
    {
     "name": "stderr",
     "output_type": "stream",
     "text": [
      "100%|██████████| 26/26 [00:01<00:00, 21.83it/s]\n",
      "  2%|▏         | 3/125 [00:00<00:05, 24.11it/s]"
     ]
    },
    {
     "name": "stdout",
     "output_type": "stream",
     "text": [
      "process folder blue_poppy\n",
      "found %d masks.. 125\n"
     ]
    },
    {
     "name": "stderr",
     "output_type": "stream",
     "text": [
      " 14%|█▎        | 17/125 [00:00<00:04, 22.67it/s]/Library/Frameworks/Python.framework/Versions/3.6/lib/python3.6/site-packages/skimage/io/_io.py:140: UserWarning: blue_poppy/mask64/n11906917_2847_1.jpg is a low contrast image\n",
      "  warn('%s is a low contrast image' % fname)\n",
      " 26%|██▋       | 33/125 [00:01<00:03, 24.08it/s]/Library/Frameworks/Python.framework/Versions/3.6/lib/python3.6/site-packages/skimage/io/_io.py:140: UserWarning: blue_poppy/mask64/n11906917_1697_1.jpg is a low contrast image\n",
      "  warn('%s is a low contrast image' % fname)\n",
      "100%|██████████| 125/125 [00:07<00:00, 23.95it/s]\n",
      "  2%|▏         | 3/154 [00:00<00:06, 23.14it/s]"
     ]
    },
    {
     "name": "stdout",
     "output_type": "stream",
     "text": [
      "process folder marsh_orchid\n",
      "found %d masks.. 154\n"
     ]
    },
    {
     "name": "stderr",
     "output_type": "stream",
     "text": [
      "/Library/Frameworks/Python.framework/Versions/3.6/lib/python3.6/site-packages/skimage/io/_io.py:140: UserWarning: marsh_orchid/mask64/n12058630_2782_4.jpg is a low contrast image\n",
      "  warn('%s is a low contrast image' % fname)\n",
      " 11%|█         | 17/154 [00:00<00:05, 23.95it/s]/Library/Frameworks/Python.framework/Versions/3.6/lib/python3.6/site-packages/skimage/io/_io.py:140: UserWarning: marsh_orchid/mask64/n12058630_815_1.jpg is a low contrast image\n",
      "  warn('%s is a low contrast image' % fname)\n",
      "/Library/Frameworks/Python.framework/Versions/3.6/lib/python3.6/site-packages/skimage/io/_io.py:140: UserWarning: marsh_orchid/mask64/n12058630_815_3.jpg is a low contrast image\n",
      "  warn('%s is a low contrast image' % fname)\n",
      " 15%|█▍        | 23/154 [00:00<00:05, 23.17it/s]/Library/Frameworks/Python.framework/Versions/3.6/lib/python3.6/site-packages/skimage/io/_io.py:140: UserWarning: marsh_orchid/mask64/n12058630_586_4.jpg is a low contrast image\n",
      "  warn('%s is a low contrast image' % fname)\n",
      " 40%|███▉      | 61/154 [00:03<00:04, 22.57it/s]/Library/Frameworks/Python.framework/Versions/3.6/lib/python3.6/site-packages/skimage/io/_io.py:140: UserWarning: marsh_orchid/mask64/n12058630_2888_1.jpg is a low contrast image\n",
      "  warn('%s is a low contrast image' % fname)\n",
      "100%|██████████| 154/154 [00:07<00:00, 19.68it/s]\n",
      "  4%|▍         | 3/70 [00:00<00:02, 22.79it/s]"
     ]
    },
    {
     "name": "stdout",
     "output_type": "stream",
     "text": [
      "process folder pearly_everlasting\n",
      "found %d masks.. 70\n"
     ]
    },
    {
     "name": "stderr",
     "output_type": "stream",
     "text": [
      " 23%|██▎       | 16/70 [00:00<00:02, 20.12it/s]/Library/Frameworks/Python.framework/Versions/3.6/lib/python3.6/site-packages/skimage/io/_io.py:140: UserWarning: pearly_everlasting/mask64/n11921395_2897_1.jpg is a low contrast image\n",
      "  warn('%s is a low contrast image' % fname)\n",
      "/Library/Frameworks/Python.framework/Versions/3.6/lib/python3.6/site-packages/skimage/io/_io.py:140: UserWarning: pearly_everlasting/mask64/n11921395_2897_2.jpg is a low contrast image\n",
      "  warn('%s is a low contrast image' % fname)\n",
      "/Library/Frameworks/Python.framework/Versions/3.6/lib/python3.6/site-packages/skimage/io/_io.py:140: UserWarning: pearly_everlasting/mask64/n11921395_2897_4.jpg is a low contrast image\n",
      "  warn('%s is a low contrast image' % fname)\n",
      "100%|██████████| 70/70 [00:03<00:00, 23.22it/s]\n",
      " 11%|█         | 3/28 [00:00<00:01, 24.31it/s]"
     ]
    },
    {
     "name": "stdout",
     "output_type": "stream",
     "text": [
      "process folder mistflower\n",
      "found %d masks.. 28\n"
     ]
    },
    {
     "name": "stderr",
     "output_type": "stream",
     "text": [
      " 71%|███████▏  | 20/28 [00:01<00:00, 18.02it/s]/Library/Frameworks/Python.framework/Versions/3.6/lib/python3.6/site-packages/skimage/io/_io.py:140: UserWarning: mistflower/mask64/n11955896_7133_1.jpg is a low contrast image\n",
      "  warn('%s is a low contrast image' % fname)\n",
      "/Library/Frameworks/Python.framework/Versions/3.6/lib/python3.6/site-packages/skimage/io/_io.py:140: UserWarning: mistflower/mask64/n11955896_7133_2.jpg is a low contrast image\n",
      "  warn('%s is a low contrast image' % fname)\n",
      "/Library/Frameworks/Python.framework/Versions/3.6/lib/python3.6/site-packages/skimage/io/_io.py:140: UserWarning: mistflower/mask64/n11955896_7133_3.jpg is a low contrast image\n",
      "  warn('%s is a low contrast image' % fname)\n",
      "/Library/Frameworks/Python.framework/Versions/3.6/lib/python3.6/site-packages/skimage/io/_io.py:140: UserWarning: mistflower/mask64/n11955896_7133_4.jpg is a low contrast image\n",
      "  warn('%s is a low contrast image' % fname)\n",
      "100%|██████████| 28/28 [00:01<00:00, 21.52it/s]\n",
      "  0%|          | 0/39 [00:00<?, ?it/s]/Library/Frameworks/Python.framework/Versions/3.6/lib/python3.6/site-packages/skimage/io/_io.py:140: UserWarning: candytuft/mask64/n11889619_7228_3.jpg is a low contrast image\n",
      "  warn('%s is a low contrast image' % fname)\n",
      "  8%|▊         | 3/39 [00:00<00:01, 28.31it/s]"
     ]
    },
    {
     "name": "stdout",
     "output_type": "stream",
     "text": [
      "process folder candytuft\n",
      "found %d masks.. 39\n"
     ]
    },
    {
     "name": "stderr",
     "output_type": "stream",
     "text": [
      " 21%|██        | 8/39 [00:00<00:01, 25.09it/s]/Library/Frameworks/Python.framework/Versions/3.6/lib/python3.6/site-packages/skimage/io/_io.py:140: UserWarning: candytuft/mask64/n11889619_1098_1.jpg is a low contrast image\n",
      "  warn('%s is a low contrast image' % fname)\n",
      " 51%|█████▏    | 20/39 [00:00<00:00, 28.85it/s]/Library/Frameworks/Python.framework/Versions/3.6/lib/python3.6/site-packages/skimage/io/_io.py:140: UserWarning: candytuft/mask64/n11889619_1032_1.jpg is a low contrast image\n",
      "  warn('%s is a low contrast image' % fname)\n",
      "/Library/Frameworks/Python.framework/Versions/3.6/lib/python3.6/site-packages/skimage/io/_io.py:140: UserWarning: candytuft/mask64/n11889619_1032_2.jpg is a low contrast image\n",
      "  warn('%s is a low contrast image' % fname)\n",
      "/Library/Frameworks/Python.framework/Versions/3.6/lib/python3.6/site-packages/skimage/io/_io.py:140: UserWarning: candytuft/mask64/n11889619_1032_3.jpg is a low contrast image\n",
      "  warn('%s is a low contrast image' % fname)\n",
      "/Library/Frameworks/Python.framework/Versions/3.6/lib/python3.6/site-packages/skimage/io/_io.py:140: UserWarning: candytuft/mask64/n11889619_1032_4.jpg is a low contrast image\n",
      "  warn('%s is a low contrast image' % fname)\n",
      "100%|██████████| 39/39 [00:01<00:00, 27.24it/s]\n",
      "  4%|▍         | 3/73 [00:00<00:02, 23.54it/s]"
     ]
    },
    {
     "name": "stdout",
     "output_type": "stream",
     "text": [
      "process folder oncidium\n",
      "found %d masks.. 73\n"
     ]
    },
    {
     "name": "stderr",
     "output_type": "stream",
     "text": [
      " 37%|███▋      | 27/73 [00:01<00:02, 18.04it/s]/Library/Frameworks/Python.framework/Versions/3.6/lib/python3.6/site-packages/skimage/io/_io.py:140: UserWarning: oncidium/mask64/n12074408_1815_1.jpg is a low contrast image\n",
      "  warn('%s is a low contrast image' % fname)\n",
      "/Library/Frameworks/Python.framework/Versions/3.6/lib/python3.6/site-packages/skimage/io/_io.py:140: UserWarning: oncidium/mask64/n12074408_1815_2.jpg is a low contrast image\n",
      "  warn('%s is a low contrast image' % fname)\n",
      "/Library/Frameworks/Python.framework/Versions/3.6/lib/python3.6/site-packages/skimage/io/_io.py:140: UserWarning: oncidium/mask64/n12074408_1815_3.jpg is a low contrast image\n",
      "  warn('%s is a low contrast image' % fname)\n",
      "/Library/Frameworks/Python.framework/Versions/3.6/lib/python3.6/site-packages/skimage/io/_io.py:140: UserWarning: oncidium/mask64/n12074408_1815_4.jpg is a low contrast image\n",
      "  warn('%s is a low contrast image' % fname)\n",
      " 44%|████▍     | 32/73 [00:01<00:02, 19.11it/s]/Library/Frameworks/Python.framework/Versions/3.6/lib/python3.6/site-packages/skimage/io/_io.py:140: UserWarning: oncidium/mask64/n12074408_13603_1.jpg is a low contrast image\n",
      "  warn('%s is a low contrast image' % fname)\n",
      " 95%|█████████▍| 69/73 [00:03<00:00, 23.10it/s]/Library/Frameworks/Python.framework/Versions/3.6/lib/python3.6/site-packages/skimage/io/_io.py:140: UserWarning: oncidium/mask64/n12074408_10185_1.jpg is a low contrast image\n",
      "  warn('%s is a low contrast image' % fname)\n",
      "100%|██████████| 73/73 [00:03<00:00, 22.30it/s]\n",
      "  3%|▎         | 8/271 [00:00<00:04, 64.36it/s]"
     ]
    },
    {
     "name": "stdout",
     "output_type": "stream",
     "text": [
      "process folder lady_slipper\n",
      "found %d masks.. 271\n"
     ]
    },
    {
     "name": "stderr",
     "output_type": "stream",
     "text": [
      " 13%|█▎        | 34/271 [00:00<00:07, 29.93it/s]/Library/Frameworks/Python.framework/Versions/3.6/lib/python3.6/site-packages/skimage/io/_io.py:140: UserWarning: lady_slipper/mask64/n12056217_11608_3.jpg is a low contrast image\n",
      "  warn('%s is a low contrast image' % fname)\n",
      " 46%|████▋     | 126/271 [00:03<00:03, 36.36it/s]/Library/Frameworks/Python.framework/Versions/3.6/lib/python3.6/site-packages/skimage/io/_io.py:140: UserWarning: lady_slipper/mask64/n12056217_16731_1.jpg is a low contrast image\n",
      "  warn('%s is a low contrast image' % fname)\n",
      " 65%|██████▍   | 176/271 [00:04<00:02, 43.49it/s]/Library/Frameworks/Python.framework/Versions/3.6/lib/python3.6/site-packages/skimage/io/_io.py:140: UserWarning: lady_slipper/mask64/n12056217_10025_2.jpg is a low contrast image\n",
      "  warn('%s is a low contrast image' % fname)\n",
      " 85%|████████▍ | 229/271 [00:05<00:00, 55.24it/s]/Library/Frameworks/Python.framework/Versions/3.6/lib/python3.6/site-packages/skimage/io/_io.py:140: UserWarning: lady_slipper/mask64/n12056217_6357_1.jpg is a low contrast image\n",
      "  warn('%s is a low contrast image' % fname)\n",
      " 87%|████████▋ | 236/271 [00:05<00:00, 50.54it/s]/Library/Frameworks/Python.framework/Versions/3.6/lib/python3.6/site-packages/skimage/io/_io.py:140: UserWarning: lady_slipper/mask64/n12056217_4795_1.jpg is a low contrast image\n",
      "  warn('%s is a low contrast image' % fname)\n",
      "/Library/Frameworks/Python.framework/Versions/3.6/lib/python3.6/site-packages/skimage/io/_io.py:140: UserWarning: lady_slipper/mask64/n12056217_17853_4.jpg is a low contrast image\n",
      "  warn('%s is a low contrast image' % fname)\n",
      "100%|██████████| 271/271 [00:06<00:00, 40.94it/s]\n",
      "  4%|▍         | 3/77 [00:00<00:02, 25.42it/s]"
     ]
    },
    {
     "name": "stdout",
     "output_type": "stream",
     "text": [
      "process folder fringed_orchis\n",
      "found %d masks.. 77\n"
     ]
    },
    {
     "name": "stderr",
     "output_type": "stream",
     "text": [
      " 14%|█▍        | 11/77 [00:00<00:02, 23.63it/s]/Library/Frameworks/Python.framework/Versions/3.6/lib/python3.6/site-packages/skimage/io/_io.py:140: UserWarning: fringed_orchis/mask64/n12065316_4370_4.jpg is a low contrast image\n",
      "  warn('%s is a low contrast image' % fname)\n",
      " 40%|████      | 31/77 [00:01<00:02, 21.08it/s]/Library/Frameworks/Python.framework/Versions/3.6/lib/python3.6/site-packages/skimage/io/_io.py:140: UserWarning: fringed_orchis/mask64/n12065316_3519_1.jpg is a low contrast image\n",
      "  warn('%s is a low contrast image' % fname)\n",
      " 52%|█████▏    | 40/77 [00:02<00:02, 18.16it/s]/Library/Frameworks/Python.framework/Versions/3.6/lib/python3.6/site-packages/skimage/io/_io.py:140: UserWarning: fringed_orchis/mask64/n12065316_2348_1.jpg is a low contrast image\n",
      "  warn('%s is a low contrast image' % fname)\n",
      "/Library/Frameworks/Python.framework/Versions/3.6/lib/python3.6/site-packages/skimage/io/_io.py:140: UserWarning: fringed_orchis/mask64/n12065316_2348_2.jpg is a low contrast image\n",
      "  warn('%s is a low contrast image' % fname)\n",
      "/Library/Frameworks/Python.framework/Versions/3.6/lib/python3.6/site-packages/skimage/io/_io.py:140: UserWarning: fringed_orchis/mask64/n12065316_2348_3.jpg is a low contrast image\n",
      "  warn('%s is a low contrast image' % fname)\n",
      "/Library/Frameworks/Python.framework/Versions/3.6/lib/python3.6/site-packages/skimage/io/_io.py:140: UserWarning: fringed_orchis/mask64/n12065316_2348_4.jpg is a low contrast image\n",
      "  warn('%s is a low contrast image' % fname)\n",
      " 56%|█████▌    | 43/77 [00:02<00:01, 20.29it/s]/Library/Frameworks/Python.framework/Versions/3.6/lib/python3.6/site-packages/skimage/io/_io.py:140: UserWarning: fringed_orchis/mask64/n12065316_973_1.jpg is a low contrast image\n",
      "  warn('%s is a low contrast image' % fname)\n",
      " 68%|██████▊   | 52/77 [00:02<00:01, 21.81it/s]/Library/Frameworks/Python.framework/Versions/3.6/lib/python3.6/site-packages/skimage/io/_io.py:140: UserWarning: fringed_orchis/mask64/n12065316_5015_1.jpg is a low contrast image\n",
      "  warn('%s is a low contrast image' % fname)\n",
      " 75%|███████▌  | 58/77 [00:02<00:00, 21.56it/s]/Library/Frameworks/Python.framework/Versions/3.6/lib/python3.6/site-packages/skimage/io/_io.py:140: UserWarning: fringed_orchis/mask64/n12065316_1217_1.jpg is a low contrast image\n",
      "  warn('%s is a low contrast image' % fname)\n",
      "100%|██████████| 77/77 [00:03<00:00, 20.67it/s]\n",
      "  0%|          | 0/67 [00:00<?, ?it/s]"
     ]
    },
    {
     "name": "stdout",
     "output_type": "stream",
     "text": [
      "process folder helleborine\n",
      "found %d masks.. 67\n"
     ]
    },
    {
     "name": "stderr",
     "output_type": "stream",
     "text": [
      " 10%|█         | 7/67 [00:00<00:03, 18.56it/s]/Library/Frameworks/Python.framework/Versions/3.6/lib/python3.6/site-packages/skimage/io/_io.py:140: UserWarning: helleborine/mask64/n12051103_5364_1.jpg is a low contrast image\n",
      "  warn('%s is a low contrast image' % fname)\n",
      " 31%|███▏      | 21/67 [00:01<00:02, 19.04it/s]/Library/Frameworks/Python.framework/Versions/3.6/lib/python3.6/site-packages/skimage/io/_io.py:140: UserWarning: helleborine/mask64/n12051103_3824_1.jpg is a low contrast image\n",
      "  warn('%s is a low contrast image' % fname)\n",
      "/Library/Frameworks/Python.framework/Versions/3.6/lib/python3.6/site-packages/skimage/io/_io.py:140: UserWarning: helleborine/mask64/n12051103_3824_4.jpg is a low contrast image\n",
      "  warn('%s is a low contrast image' % fname)\n",
      " 57%|█████▋    | 38/67 [00:02<00:02, 13.75it/s]/Library/Frameworks/Python.framework/Versions/3.6/lib/python3.6/site-packages/skimage/io/_io.py:140: UserWarning: helleborine/mask64/n12051103_918_3.jpg is a low contrast image\n",
      "  warn('%s is a low contrast image' % fname)\n",
      " 94%|█████████▍| 63/67 [00:03<00:00, 23.77it/s]/Library/Frameworks/Python.framework/Versions/3.6/lib/python3.6/site-packages/skimage/io/_io.py:140: UserWarning: helleborine/mask64/n12051103_6265_1.jpg is a low contrast image\n",
      "  warn('%s is a low contrast image' % fname)\n",
      "/Library/Frameworks/Python.framework/Versions/3.6/lib/python3.6/site-packages/skimage/io/_io.py:140: UserWarning: helleborine/mask64/n12051103_6265_2.jpg is a low contrast image\n",
      "  warn('%s is a low contrast image' % fname)\n",
      "/Library/Frameworks/Python.framework/Versions/3.6/lib/python3.6/site-packages/skimage/io/_io.py:140: UserWarning: helleborine/mask64/n12051103_6265_3.jpg is a low contrast image\n",
      "  warn('%s is a low contrast image' % fname)\n",
      "/Library/Frameworks/Python.framework/Versions/3.6/lib/python3.6/site-packages/skimage/io/_io.py:140: UserWarning: helleborine/mask64/n12051103_6265_4.jpg is a low contrast image\n",
      "  warn('%s is a low contrast image' % fname)\n",
      "100%|██████████| 67/67 [00:03<00:00, 19.54it/s]\n",
      "  3%|▎         | 4/147 [00:00<00:05, 27.88it/s]"
     ]
    },
    {
     "name": "stdout",
     "output_type": "stream",
     "text": [
      "process folder lesser\n",
      "found %d masks.. 147\n"
     ]
    },
    {
     "name": "stderr",
     "output_type": "stream",
     "text": [
      " 19%|█▉        | 28/147 [00:01<00:04, 25.06it/s]/Library/Frameworks/Python.framework/Versions/3.6/lib/python3.6/site-packages/skimage/io/_io.py:140: UserWarning: lesser/mask64/n11721337_3886_1.jpg is a low contrast image\n",
      "  warn('%s is a low contrast image' % fname)\n",
      "/Library/Frameworks/Python.framework/Versions/3.6/lib/python3.6/site-packages/skimage/io/_io.py:140: UserWarning: lesser/mask64/n11721337_3886_2.jpg is a low contrast image\n",
      "  warn('%s is a low contrast image' % fname)\n",
      "/Library/Frameworks/Python.framework/Versions/3.6/lib/python3.6/site-packages/skimage/io/_io.py:140: UserWarning: lesser/mask64/n11721337_3886_3.jpg is a low contrast image\n",
      "  warn('%s is a low contrast image' % fname)\n",
      " 45%|████▍     | 66/147 [00:03<00:04, 17.81it/s]/Library/Frameworks/Python.framework/Versions/3.6/lib/python3.6/site-packages/skimage/io/_io.py:140: UserWarning: lesser/mask64/n11721337_5492_1.jpg is a low contrast image\n",
      "  warn('%s is a low contrast image' % fname)\n",
      "/Library/Frameworks/Python.framework/Versions/3.6/lib/python3.6/site-packages/skimage/io/_io.py:140: UserWarning: lesser/mask64/n11721337_5492_2.jpg is a low contrast image\n",
      "  warn('%s is a low contrast image' % fname)\n",
      "/Library/Frameworks/Python.framework/Versions/3.6/lib/python3.6/site-packages/skimage/io/_io.py:140: UserWarning: lesser/mask64/n11721337_5492_4.jpg is a low contrast image\n",
      "  warn('%s is a low contrast image' % fname)\n",
      " 50%|█████     | 74/147 [00:03<00:03, 23.11it/s]/Library/Frameworks/Python.framework/Versions/3.6/lib/python3.6/site-packages/skimage/io/_io.py:140: UserWarning: lesser/mask64/n11721337_473_4.jpg is a low contrast image\n",
      "  warn('%s is a low contrast image' % fname)\n",
      " 67%|██████▋   | 98/147 [00:04<00:02, 22.84it/s]/Library/Frameworks/Python.framework/Versions/3.6/lib/python3.6/site-packages/skimage/io/_io.py:140: UserWarning: lesser/mask64/n11721337_3620_1.jpg is a low contrast image\n",
      "  warn('%s is a low contrast image' % fname)\n",
      "/Library/Frameworks/Python.framework/Versions/3.6/lib/python3.6/site-packages/skimage/io/_io.py:140: UserWarning: lesser/mask64/n11721337_3620_2.jpg is a low contrast image\n",
      "  warn('%s is a low contrast image' % fname)\n",
      "/Library/Frameworks/Python.framework/Versions/3.6/lib/python3.6/site-packages/skimage/io/_io.py:140: UserWarning: lesser/mask64/n11721337_3620_3.jpg is a low contrast image\n",
      "  warn('%s is a low contrast image' % fname)\n",
      "/Library/Frameworks/Python.framework/Versions/3.6/lib/python3.6/site-packages/skimage/io/_io.py:140: UserWarning: lesser/mask64/n11721337_3620_4.jpg is a low contrast image\n",
      "  warn('%s is a low contrast image' % fname)\n",
      "/Library/Frameworks/Python.framework/Versions/3.6/lib/python3.6/site-packages/skimage/io/_io.py:140: UserWarning: lesser/mask64/n11721337_3807_2.jpg is a low contrast image\n",
      "  warn('%s is a low contrast image' % fname)\n",
      " 71%|███████▏  | 105/147 [00:05<00:01, 21.83it/s]/Library/Frameworks/Python.framework/Versions/3.6/lib/python3.6/site-packages/skimage/io/_io.py:140: UserWarning: lesser/mask64/n11721337_8039_1.jpg is a low contrast image\n",
      "  warn('%s is a low contrast image' % fname)\n",
      "/Library/Frameworks/Python.framework/Versions/3.6/lib/python3.6/site-packages/skimage/io/_io.py:140: UserWarning: lesser/mask64/n11721337_8039_2.jpg is a low contrast image\n",
      "  warn('%s is a low contrast image' % fname)\n",
      "/Library/Frameworks/Python.framework/Versions/3.6/lib/python3.6/site-packages/skimage/io/_io.py:140: UserWarning: lesser/mask64/n11721337_8039_3.jpg is a low contrast image\n",
      "  warn('%s is a low contrast image' % fname)\n",
      "/Library/Frameworks/Python.framework/Versions/3.6/lib/python3.6/site-packages/skimage/io/_io.py:140: UserWarning: lesser/mask64/n11721337_8039_4.jpg is a low contrast image\n",
      "  warn('%s is a low contrast image' % fname)\n",
      " 94%|█████████▍| 138/147 [00:07<00:00, 12.52it/s]/Library/Frameworks/Python.framework/Versions/3.6/lib/python3.6/site-packages/skimage/io/_io.py:140: UserWarning: lesser/mask64/n11721337_6498_2.jpg is a low contrast image\n",
      "  warn('%s is a low contrast image' % fname)\n",
      "100%|██████████| 147/147 [00:07<00:00, 18.67it/s]\n",
      "  0%|          | 0/115 [00:00<?, ?it/s]/Library/Frameworks/Python.framework/Versions/3.6/lib/python3.6/site-packages/skimage/io/_io.py:140: UserWarning: iceland_poppy/mask64/n11901294_5231_1.jpg is a low contrast image\n",
      "  warn('%s is a low contrast image' % fname)\n",
      "/Library/Frameworks/Python.framework/Versions/3.6/lib/python3.6/site-packages/skimage/io/_io.py:140: UserWarning: iceland_poppy/mask64/n11901294_5231_2.jpg is a low contrast image\n",
      "  warn('%s is a low contrast image' % fname)\n",
      "  3%|▎         | 3/115 [00:00<00:04, 27.30it/s]"
     ]
    },
    {
     "name": "stdout",
     "output_type": "stream",
     "text": [
      "process folder iceland_poppy\n",
      "found %d masks.. 115\n"
     ]
    },
    {
     "name": "stderr",
     "output_type": "stream",
     "text": [
      " 11%|█▏        | 13/115 [00:00<00:03, 27.37it/s]/Library/Frameworks/Python.framework/Versions/3.6/lib/python3.6/site-packages/skimage/io/_io.py:140: UserWarning: iceland_poppy/mask64/n11901294_494_3.jpg is a low contrast image\n",
      "  warn('%s is a low contrast image' % fname)\n",
      " 36%|███▌      | 41/115 [00:01<00:02, 25.38it/s]/Library/Frameworks/Python.framework/Versions/3.6/lib/python3.6/site-packages/skimage/io/_io.py:140: UserWarning: iceland_poppy/mask64/n11901294_7240_4.jpg is a low contrast image\n",
      "  warn('%s is a low contrast image' % fname)\n",
      " 43%|████▎     | 50/115 [00:01<00:02, 25.38it/s]/Library/Frameworks/Python.framework/Versions/3.6/lib/python3.6/site-packages/skimage/io/_io.py:140: UserWarning: iceland_poppy/mask64/n11901294_2063_3.jpg is a low contrast image\n",
      "  warn('%s is a low contrast image' % fname)\n",
      " 62%|██████▏   | 71/115 [00:02<00:01, 23.28it/s]/Library/Frameworks/Python.framework/Versions/3.6/lib/python3.6/site-packages/skimage/io/_io.py:140: UserWarning: iceland_poppy/mask64/n11901294_2468_2.jpg is a low contrast image\n",
      "  warn('%s is a low contrast image' % fname)\n",
      " 89%|████████▊ | 102/115 [00:04<00:00, 22.91it/s]/Library/Frameworks/Python.framework/Versions/3.6/lib/python3.6/site-packages/skimage/io/_io.py:140: UserWarning: iceland_poppy/mask64/n11901294_3471_1.jpg is a low contrast image\n",
      "  warn('%s is a low contrast image' % fname)\n",
      "100%|██████████| 115/115 [00:05<00:00, 22.94it/s]\n",
      "  2%|▏         | 3/155 [00:00<00:07, 19.88it/s]"
     ]
    },
    {
     "name": "stdout",
     "output_type": "stream",
     "text": [
      "process folder calypso\n",
      "found %d masks.. 155\n"
     ]
    },
    {
     "name": "stderr",
     "output_type": "stream",
     "text": [
      " 28%|██▊       | 43/155 [00:02<00:05, 21.49it/s]/Library/Frameworks/Python.framework/Versions/3.6/lib/python3.6/site-packages/skimage/io/_io.py:140: UserWarning: calypso/mask64/n12049562_11136_3.jpg is a low contrast image\n",
      "  warn('%s is a low contrast image' % fname)\n",
      " 39%|███▉      | 61/155 [00:02<00:04, 20.49it/s]/Library/Frameworks/Python.framework/Versions/3.6/lib/python3.6/site-packages/skimage/io/_io.py:140: UserWarning: calypso/mask64/n12049562_3825_2.jpg is a low contrast image\n",
      "  warn('%s is a low contrast image' % fname)\n",
      "/Library/Frameworks/Python.framework/Versions/3.6/lib/python3.6/site-packages/skimage/io/_io.py:140: UserWarning: calypso/mask64/n12049562_3825_3.jpg is a low contrast image\n",
      "  warn('%s is a low contrast image' % fname)\n",
      "/Library/Frameworks/Python.framework/Versions/3.6/lib/python3.6/site-packages/skimage/io/_io.py:140: UserWarning: calypso/mask64/n12049562_3825_4.jpg is a low contrast image\n",
      "  warn('%s is a low contrast image' % fname)\n",
      " 67%|██████▋   | 104/155 [00:04<00:02, 25.44it/s]/Library/Frameworks/Python.framework/Versions/3.6/lib/python3.6/site-packages/skimage/io/_io.py:140: UserWarning: calypso/mask64/n12049562_359_1.jpg is a low contrast image\n",
      "  warn('%s is a low contrast image' % fname)\n",
      " 81%|████████  | 125/155 [00:06<00:02, 11.09it/s]/Library/Frameworks/Python.framework/Versions/3.6/lib/python3.6/site-packages/skimage/io/_io.py:140: UserWarning: calypso/mask64/n12049562_5354_3.jpg is a low contrast image\n",
      "  warn('%s is a low contrast image' % fname)\n",
      "100%|██████████| 155/155 [00:08<00:00, 18.51it/s]\n",
      "  1%|▏         | 3/231 [00:00<00:07, 29.00it/s]/Library/Frameworks/Python.framework/Versions/3.6/lib/python3.6/site-packages/skimage/io/_io.py:140: UserWarning: strawflower/mask64/n11980318_12866_1.jpg is a low contrast image\n",
      "  warn('%s is a low contrast image' % fname)\n"
     ]
    },
    {
     "name": "stdout",
     "output_type": "stream",
     "text": [
      "process folder strawflower\n",
      "found %d masks.. 231\n"
     ]
    },
    {
     "name": "stderr",
     "output_type": "stream",
     "text": [
      " 26%|██▌       | 60/231 [00:01<00:06, 26.05it/s]/Library/Frameworks/Python.framework/Versions/3.6/lib/python3.6/site-packages/skimage/io/_io.py:140: UserWarning: strawflower/mask64/n11980318_29163_1.jpg is a low contrast image\n",
      "  warn('%s is a low contrast image' % fname)\n",
      " 34%|███▍      | 78/231 [00:02<00:06, 24.57it/s]/Library/Frameworks/Python.framework/Versions/3.6/lib/python3.6/site-packages/skimage/io/_io.py:140: UserWarning: strawflower/mask64/n11980318_1008_3.jpg is a low contrast image\n",
      "  warn('%s is a low contrast image' % fname)\n",
      " 76%|███████▌  | 175/231 [00:06<00:02, 25.18it/s]/Library/Frameworks/Python.framework/Versions/3.6/lib/python3.6/site-packages/skimage/io/_io.py:140: UserWarning: strawflower/mask64/n11980318_12996_4.jpg is a low contrast image\n",
      "  warn('%s is a low contrast image' % fname)\n",
      "100%|██████████| 231/231 [00:07<00:00, 39.22it/s]\n",
      "  2%|▏         | 2/104 [00:00<00:05, 19.13it/s]/Library/Frameworks/Python.framework/Versions/3.6/lib/python3.6/site-packages/skimage/io/_io.py:140: UserWarning: ice_plants/mask64/n11821184_1364_2.jpg is a low contrast image\n",
      "  warn('%s is a low contrast image' % fname)\n",
      "/Library/Frameworks/Python.framework/Versions/3.6/lib/python3.6/site-packages/skimage/io/_io.py:140: UserWarning: ice_plants/mask64/n11821184_1364_3.jpg is a low contrast image\n",
      "  warn('%s is a low contrast image' % fname)\n",
      "/Library/Frameworks/Python.framework/Versions/3.6/lib/python3.6/site-packages/skimage/io/_io.py:140: UserWarning: ice_plants/mask64/n11821184_1364_4.jpg is a low contrast image\n",
      "  warn('%s is a low contrast image' % fname)\n"
     ]
    },
    {
     "name": "stdout",
     "output_type": "stream",
     "text": [
      "process folder ice_plants\n",
      "found %d masks.. 104\n"
     ]
    },
    {
     "name": "stderr",
     "output_type": "stream",
     "text": [
      " 95%|█████████▌| 99/104 [00:05<00:00, 21.03it/s]/Library/Frameworks/Python.framework/Versions/3.6/lib/python3.6/site-packages/skimage/io/_io.py:140: UserWarning: ice_plants/mask64/n11821184_17222_1.jpg is a low contrast image\n",
      "  warn('%s is a low contrast image' % fname)\n",
      "/Library/Frameworks/Python.framework/Versions/3.6/lib/python3.6/site-packages/skimage/io/_io.py:140: UserWarning: ice_plants/mask64/n11821184_17222_2.jpg is a low contrast image\n",
      "  warn('%s is a low contrast image' % fname)\n",
      "100%|██████████| 104/104 [00:05<00:00, 19.46it/s]\n",
      "  2%|▏         | 5/280 [00:00<00:07, 36.50it/s]"
     ]
    },
    {
     "name": "stdout",
     "output_type": "stream",
     "text": [
      "process folder masdevallia\n",
      "found %d masks.. 280\n"
     ]
    },
    {
     "name": "stderr",
     "output_type": "stream",
     "text": [
      " 50%|████▉     | 139/280 [00:03<00:03, 37.09it/s]/Library/Frameworks/Python.framework/Versions/3.6/lib/python3.6/site-packages/skimage/io/_io.py:140: UserWarning: masdevallia/mask64/n12072722_4740_2.jpg is a low contrast image\n",
      "  warn('%s is a low contrast image' % fname)\n",
      "/Library/Frameworks/Python.framework/Versions/3.6/lib/python3.6/site-packages/skimage/io/_io.py:140: UserWarning: masdevallia/mask64/n12072722_4740_3.jpg is a low contrast image\n",
      "  warn('%s is a low contrast image' % fname)\n",
      "100%|██████████| 280/280 [00:06<00:00, 36.17it/s]\n",
      "  1%|          | 3/251 [00:00<00:09, 25.05it/s]"
     ]
    },
    {
     "name": "stdout",
     "output_type": "stream",
     "text": [
      "process folder sunflower\n",
      "found %d masks.. 251\n"
     ]
    },
    {
     "name": "stderr",
     "output_type": "stream",
     "text": [
      "  8%|▊         | 21/251 [00:00<00:09, 23.91it/s]/Library/Frameworks/Python.framework/Versions/3.6/lib/python3.6/site-packages/skimage/io/_io.py:140: UserWarning: sunflower/mask64/n11978233_28065_1.jpg is a low contrast image\n",
      "  warn('%s is a low contrast image' % fname)\n",
      " 19%|█▉        | 48/251 [00:02<00:08, 23.64it/s]/Library/Frameworks/Python.framework/Versions/3.6/lib/python3.6/site-packages/skimage/io/_io.py:140: UserWarning: sunflower/mask64/n11978233_6072_4.jpg is a low contrast image\n",
      "  warn('%s is a low contrast image' % fname)\n",
      " 47%|████▋     | 117/251 [00:05<00:05, 23.41it/s]/Library/Frameworks/Python.framework/Versions/3.6/lib/python3.6/site-packages/skimage/io/_io.py:140: UserWarning: sunflower/mask64/n11978233_10589_2.jpg is a low contrast image\n",
      "  warn('%s is a low contrast image' % fname)\n",
      " 51%|█████▏    | 129/251 [00:05<00:05, 22.38it/s]/Library/Frameworks/Python.framework/Versions/3.6/lib/python3.6/site-packages/skimage/io/_io.py:140: UserWarning: sunflower/mask64/n11978233_600_1.jpg is a low contrast image\n",
      "  warn('%s is a low contrast image' % fname)\n",
      " 67%|██████▋   | 168/251 [00:07<00:03, 23.33it/s]/Library/Frameworks/Python.framework/Versions/3.6/lib/python3.6/site-packages/skimage/io/_io.py:140: UserWarning: sunflower/image64/n11978233_150._3.jpg is a low contrast image\n",
      "  warn('%s is a low contrast image' % fname)\n",
      " 71%|███████   | 177/251 [00:07<00:03, 21.78it/s]/Library/Frameworks/Python.framework/Versions/3.6/lib/python3.6/site-packages/skimage/io/_io.py:140: UserWarning: sunflower/mask64/n11978233_2524_2.jpg is a low contrast image\n",
      "  warn('%s is a low contrast image' % fname)\n",
      " 73%|███████▎  | 183/251 [00:08<00:03, 21.31it/s]/Library/Frameworks/Python.framework/Versions/3.6/lib/python3.6/site-packages/skimage/io/_io.py:140: UserWarning: sunflower/mask64/n11978233_437_4.jpg is a low contrast image\n",
      "  warn('%s is a low contrast image' % fname)\n",
      " 94%|█████████▍| 237/251 [00:10<00:00, 17.46it/s]/Library/Frameworks/Python.framework/Versions/3.6/lib/python3.6/site-packages/skimage/io/_io.py:140: UserWarning: sunflower/mask64/n11978233_2976_3.jpg is a low contrast image\n",
      "  warn('%s is a low contrast image' % fname)\n",
      "100%|██████████| 251/251 [00:11<00:00, 21.29it/s]\n",
      "  4%|▎         | 3/83 [00:00<00:03, 24.27it/s]"
     ]
    },
    {
     "name": "stdout",
     "output_type": "stream",
     "text": [
      "process folder wood_anemone\n",
      "found %d masks.. 83\n"
     ]
    },
    {
     "name": "stderr",
     "output_type": "stream",
     "text": [
      " 27%|██▋       | 22/83 [00:01<00:03, 19.37it/s]/Library/Frameworks/Python.framework/Versions/3.6/lib/python3.6/site-packages/skimage/io/_io.py:140: UserWarning: wood_anemone/mask64/n11725821_13897_4.jpg is a low contrast image\n",
      "  warn('%s is a low contrast image' % fname)\n",
      " 43%|████▎     | 36/83 [00:02<00:04,  9.96it/s]/Library/Frameworks/Python.framework/Versions/3.6/lib/python3.6/site-packages/skimage/io/_io.py:140: UserWarning: wood_anemone/mask64/n11725821_6053_1.jpg is a low contrast image\n",
      "  warn('%s is a low contrast image' % fname)\n",
      "100%|██████████| 83/83 [00:06<00:00, 14.78it/s]\n",
      "  3%|▎         | 4/118 [00:00<00:04, 26.79it/s]"
     ]
    },
    {
     "name": "stdout",
     "output_type": "stream",
     "text": [
      "process folder dendrobium\n",
      "found %d masks.. 118\n"
     ]
    },
    {
     "name": "stderr",
     "output_type": "stream",
     "text": [
      " 65%|██████▌   | 77/118 [00:02<00:01, 35.50it/s]/Library/Frameworks/Python.framework/Versions/3.6/lib/python3.6/site-packages/skimage/io/_io.py:140: UserWarning: dendrobium/mask64/n12059314_2121_4.jpg is a low contrast image\n",
      "  warn('%s is a low contrast image' % fname)\n",
      "100%|██████████| 118/118 [00:02<00:00, 40.29it/s]\n",
      "  6%|▌         | 3/49 [00:00<00:01, 24.77it/s]"
     ]
    },
    {
     "name": "stdout",
     "output_type": "stream",
     "text": [
      "process folder wallflower\n",
      "found %d masks.. 49\n"
     ]
    },
    {
     "name": "stderr",
     "output_type": "stream",
     "text": [
      "/Library/Frameworks/Python.framework/Versions/3.6/lib/python3.6/site-packages/skimage/io/_io.py:140: UserWarning: wallflower/mask64/n11887119_473_1.jpg is a low contrast image\n",
      "  warn('%s is a low contrast image' % fname)\n",
      " 24%|██▍       | 12/49 [00:00<00:01, 21.19it/s]/Library/Frameworks/Python.framework/Versions/3.6/lib/python3.6/site-packages/skimage/io/_io.py:140: UserWarning: wallflower/mask64/n11887119_7910_1.jpg is a low contrast image\n",
      "  warn('%s is a low contrast image' % fname)\n",
      " 31%|███       | 15/49 [00:00<00:01, 21.41it/s]/Library/Frameworks/Python.framework/Versions/3.6/lib/python3.6/site-packages/skimage/io/_io.py:140: UserWarning: wallflower/mask64/n11887119_1492_2.jpg is a low contrast image\n",
      "  warn('%s is a low contrast image' % fname)\n",
      " 53%|█████▎    | 26/49 [00:01<00:01, 21.43it/s]/Library/Frameworks/Python.framework/Versions/3.6/lib/python3.6/site-packages/skimage/io/_io.py:140: UserWarning: wallflower/mask64/n11887119_793_1.jpg is a low contrast image\n",
      "  warn('%s is a low contrast image' % fname)\n",
      "/Library/Frameworks/Python.framework/Versions/3.6/lib/python3.6/site-packages/skimage/io/_io.py:140: UserWarning: wallflower/mask64/n11887119_793_2.jpg is a low contrast image\n",
      "  warn('%s is a low contrast image' % fname)\n",
      "/Library/Frameworks/Python.framework/Versions/3.6/lib/python3.6/site-packages/skimage/io/_io.py:140: UserWarning: wallflower/mask64/n11887119_793_3.jpg is a low contrast image\n",
      "  warn('%s is a low contrast image' % fname)\n",
      " 71%|███████▏  | 35/49 [00:01<00:00, 21.45it/s]/Library/Frameworks/Python.framework/Versions/3.6/lib/python3.6/site-packages/skimage/io/_io.py:140: UserWarning: wallflower/mask64/n11887119_4378_1.jpg is a low contrast image\n",
      "  warn('%s is a low contrast image' % fname)\n",
      "/Library/Frameworks/Python.framework/Versions/3.6/lib/python3.6/site-packages/skimage/io/_io.py:140: UserWarning: wallflower/mask64/n11887119_4378_2.jpg is a low contrast image\n",
      "  warn('%s is a low contrast image' % fname)\n",
      "/Library/Frameworks/Python.framework/Versions/3.6/lib/python3.6/site-packages/skimage/io/_io.py:140: UserWarning: wallflower/mask64/n11887119_4378_3.jpg is a low contrast image\n",
      "  warn('%s is a low contrast image' % fname)\n",
      " 84%|████████▎ | 41/49 [00:01<00:00, 23.10it/s]/Library/Frameworks/Python.framework/Versions/3.6/lib/python3.6/site-packages/skimage/io/_io.py:140: UserWarning: wallflower/mask64/n11887119_4178_2.jpg is a low contrast image\n",
      "  warn('%s is a low contrast image' % fname)\n",
      "/Library/Frameworks/Python.framework/Versions/3.6/lib/python3.6/site-packages/skimage/io/_io.py:140: UserWarning: wallflower/mask64/n11887119_4178_3.jpg is a low contrast image\n",
      "  warn('%s is a low contrast image' % fname)\n",
      "/Library/Frameworks/Python.framework/Versions/3.6/lib/python3.6/site-packages/skimage/io/_io.py:140: UserWarning: wallflower/mask64/n11887119_4178_4.jpg is a low contrast image\n",
      "  warn('%s is a low contrast image' % fname)\n",
      " 90%|████████▉ | 44/49 [00:01<00:00, 23.89it/s]/Library/Frameworks/Python.framework/Versions/3.6/lib/python3.6/site-packages/skimage/io/_io.py:140: UserWarning: wallflower/mask64/n11887119_3203_1.jpg is a low contrast image\n",
      "  warn('%s is a low contrast image' % fname)\n",
      "/Library/Frameworks/Python.framework/Versions/3.6/lib/python3.6/site-packages/skimage/io/_io.py:140: UserWarning: wallflower/mask64/n11887119_3203_3.jpg is a low contrast image\n",
      "  warn('%s is a low contrast image' % fname)\n",
      "/Library/Frameworks/Python.framework/Versions/3.6/lib/python3.6/site-packages/skimage/io/_io.py:140: UserWarning: wallflower/mask64/n11887119_3203_4.jpg is a low contrast image\n",
      "  warn('%s is a low contrast image' % fname)\n",
      "100%|██████████| 49/49 [00:02<00:00, 22.05it/s]\n"
     ]
    }
   ],
   "source": [
    "folders = [os.path.split(x)[0] for x in glob.glob('*/mask')]\n",
    "for folder in folders:\n",
    "    print('process folder', folder)\n",
    "    process_folder(folder)"
   ]
  },
  {
   "cell_type": "code",
   "execution_count": 4,
   "metadata": {},
   "outputs": [
    {
     "data": {
      "text/plain": [
       "25480"
      ]
     },
     "execution_count": 4,
     "metadata": {},
     "output_type": "execute_result"
    }
   ],
   "source": [
    "all_masks = glob.glob('*/mask64/*')\n",
    "len(all_masks)"
   ]
  },
  {
   "cell_type": "code",
   "execution_count": null,
   "metadata": {},
   "outputs": [],
   "source": []
  }
 ],
 "metadata": {
  "kernelspec": {
   "display_name": "Python 3",
   "language": "python",
   "name": "python3"
  },
  "language_info": {
   "codemirror_mode": {
    "name": "ipython",
    "version": 3
   },
   "file_extension": ".py",
   "mimetype": "text/x-python",
   "name": "python",
   "nbconvert_exporter": "python",
   "pygments_lexer": "ipython3",
   "version": "3.6.5"
  }
 },
 "nbformat": 4,
 "nbformat_minor": 2
}
