{
 "cells": [
  {
   "cell_type": "code",
   "execution_count": 1,
   "metadata": {},
   "outputs": [],
   "source": [
    "import pandas as pd\n",
    "import matplotlib.pyplot as plt"
   ]
  },
  {
   "cell_type": "code",
   "execution_count": 2,
   "metadata": {},
   "outputs": [
    {
     "data": {
      "text/html": [
       "<div>\n",
       "<style scoped>\n",
       "    .dataframe tbody tr th:only-of-type {\n",
       "        vertical-align: middle;\n",
       "    }\n",
       "\n",
       "    .dataframe tbody tr th {\n",
       "        vertical-align: top;\n",
       "    }\n",
       "\n",
       "    .dataframe thead th {\n",
       "        text-align: right;\n",
       "    }\n",
       "</style>\n",
       "<table border=\"1\" class=\"dataframe\">\n",
       "  <thead>\n",
       "    <tr style=\"text-align: right;\">\n",
       "      <th></th>\n",
       "      <th>file</th>\n",
       "      <th>mean_mask</th>\n",
       "      <th>synset</th>\n",
       "      <th>synset_count</th>\n",
       "    </tr>\n",
       "  </thead>\n",
       "  <tbody>\n",
       "    <tr>\n",
       "      <th>0</th>\n",
       "      <td>n11665372_10017_1.jpg</td>\n",
       "      <td>0.645231</td>\n",
       "      <td>n11665372</td>\n",
       "      <td>2920</td>\n",
       "    </tr>\n",
       "    <tr>\n",
       "      <th>1</th>\n",
       "      <td>n11665372_10017_2.jpg</td>\n",
       "      <td>0.641856</td>\n",
       "      <td>n11665372</td>\n",
       "      <td>2920</td>\n",
       "    </tr>\n",
       "    <tr>\n",
       "      <th>2</th>\n",
       "      <td>n11665372_10020_1.jpg</td>\n",
       "      <td>0.580223</td>\n",
       "      <td>n11665372</td>\n",
       "      <td>2920</td>\n",
       "    </tr>\n",
       "    <tr>\n",
       "      <th>3</th>\n",
       "      <td>n11665372_10020_2.jpg</td>\n",
       "      <td>0.551913</td>\n",
       "      <td>n11665372</td>\n",
       "      <td>2920</td>\n",
       "    </tr>\n",
       "    <tr>\n",
       "      <th>4</th>\n",
       "      <td>n11665372_10043_1.jpg</td>\n",
       "      <td>0.862297</td>\n",
       "      <td>n11665372</td>\n",
       "      <td>2920</td>\n",
       "    </tr>\n",
       "  </tbody>\n",
       "</table>\n",
       "</div>"
      ],
      "text/plain": [
       "                    file  mean_mask     synset  synset_count\n",
       "0  n11665372_10017_1.jpg   0.645231  n11665372          2920\n",
       "1  n11665372_10017_2.jpg   0.641856  n11665372          2920\n",
       "2  n11665372_10020_1.jpg   0.580223  n11665372          2920\n",
       "3  n11665372_10020_2.jpg   0.551913  n11665372          2920\n",
       "4  n11665372_10043_1.jpg   0.862297  n11665372          2920"
      ]
     },
     "execution_count": 2,
     "metadata": {},
     "output_type": "execute_result"
    }
   ],
   "source": [
    "df = pd.read_csv('mask_pred_dict.csv', header=None, names=['file','mean_mask'])\n",
    "df['synset'] = df['file'].apply(lambda x: x.split('_')[0])\n",
    "synset = df.groupby('synset').agg({'file':'count','mean_mask':'mean'}).sort_values('mean_mask', ascending=False)\n",
    "df['synset_count'] = df['synset'].map(synset['file'])\n",
    "df.head()"
   ]
  },
  {
   "cell_type": "code",
   "execution_count": 3,
   "metadata": {},
   "outputs": [
    {
     "data": {
      "image/png": "[encoded data removed]",
      "text/plain": [
       "<Figure size 432x288 with 1 Axes>"
      ]
     },
     "metadata": {
      "needs_background": "light"
     },
     "output_type": "display_data"
    }
   ],
   "source": [
    "sampled_df = df.loc[(df['synset']!='n11669921')\n",
    "                   &(df['synset']!='n11665372')\n",
    "                   &(df['file'].str.endswith('_1.jpg'))].sample(60000, weights=(1-df['mean_mask'])/(df['synset_count']))\n",
    "sampled_df = sampled_df.append(df.loc[(df['synset']=='n11669921')|(df['synset']=='n11665372')])\n",
    "sampled_df['mean_mask'].plot.hist()\n",
    "plt.show()"
   ]
  },
  {
   "cell_type": "code",
   "execution_count": 4,
   "metadata": {},
   "outputs": [],
   "source": [
    "sampled_df.to_csv('mask_pred_dict_sampled.csv', index=False)"
   ]
  },
  {
   "cell_type": "code",
   "execution_count": null,
   "metadata": {},
   "outputs": [],
   "source": []
  }
 ],
 "metadata": {
  "kernelspec": {
   "display_name": "Python 3",
   "language": "python",
   "name": "python3"
  },
  "language_info": {
   "codemirror_mode": {
    "name": "ipython",
    "version": 3
   },
   "file_extension": ".py",
   "mimetype": "text/x-python",
   "name": "python",
   "nbconvert_exporter": "python",
   "pygments_lexer": "ipython3",
   "version": "3.6.5"
  }
 },
 "nbformat": 4,
 "nbformat_minor": 2
}
